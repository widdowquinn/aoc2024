{
 "cells": [
  {
   "cell_type": "markdown",
   "id": "b57f5e2c",
   "metadata": {},
   "source": [
    "# Day 03"
   ]
  },
  {
   "cell_type": "markdown",
   "id": "76257baf",
   "metadata": {},
   "source": [
    "## Part 1\n",
    "\n",
    "\"Our computers are having issues, so I have no idea if we have any Chief Historians in stock! You're welcome to check the warehouse, though,\" says the mildly flustered shopkeeper at the North Pole Toboggan Rental Shop. The Historians head out to take a look.\n",
    "\n",
    "The shopkeeper turns to you. \"Any chance you can see why our computers are having issues again?\"\n",
    "\n",
    "The computer appears to be trying to run a program, but its memory (your puzzle input) is corrupted. All of the instructions have been jumbled up!\n",
    "\n",
    "It seems like the goal of the program is just to multiply some numbers. It does that with instructions like mul(X,Y), where X and Y are each 1-3 digit numbers. For instance, `mul(44,46)` multiplies 44 by 46 to get a result of 2024. Similarly, `mul(123,4)` would multiply 123 by 4.\n",
    "\n",
    "However, because the program's memory has been corrupted, there are also many invalid characters that should be ignored, even if they look like part of a mul instruction. Sequences like `mul(4*`, `mul(6,9!`, `?(12,34)`, or `mul ( 2 , 4 )` do nothing.\n",
    "\n",
    "For example, consider the following section of corrupted memory:\n",
    "\n",
    "x`mul(2,4)`%&mul[3,7]!@^do_not_`mul(5,5)`+mul(32,64]then(`mul(11,8)mul(8,5)`)\n",
    "\n",
    "Only the four highlighted sections are real mul instructions. Adding up the result of each instruction produces `161` `(2*4 + 5*5 + 11*8 + 8*5)`.\n",
    "\n",
    "Scan the corrupted memory for uncorrupted mul instructions. What do you get if you add up all of the results of the multiplications?"
   ]
  },
  {
   "cell_type": "code",
   "execution_count": 1,
   "id": "d98ac63a",
   "metadata": {},
   "outputs": [],
   "source": [
    "import re\n",
    "\n",
    "from pathlib import Path\n",
    "\n",
    "import numpy as np"
   ]
  },
  {
   "cell_type": "code",
   "execution_count": 2,
   "id": "bd13997e",
   "metadata": {},
   "outputs": [
    {
     "data": {
      "text/plain": [
       "np.int64(161)"
      ]
     },
     "execution_count": 2,
     "metadata": {},
     "output_type": "execute_result"
    }
   ],
   "source": [
    "test_path = Path(\"data/day03_test.txt\")\n",
    "test_path1 = Path(\"data/day03_test1.txt\")\n",
    "data_path = Path(\"data/day03_data.txt\")\n",
    "\n",
    "def load_data(fpath: Path) -> str:\n",
    "    \"\"\"Returns all data from the file as a string (whitespace end-stripped).\"\"\"\n",
    "    return fpath.open().read().strip()\n",
    "\n",
    "def get_instructions(prog: str) -> list[str]:\n",
    "    \"\"\"Returns a list of valid mul() instructions.\"\"\"\n",
    "    regex = re.compile(r\"mul\\([0-9]{1,3},[0-9]{1,3}\\)\")\n",
    "    insts = re.findall(regex, prog)\n",
    "    return insts\n",
    "\n",
    "def parse_instruction(inst: str) -> list[int]:\n",
    "    \"\"\"Returns list of integers from a mul() instruction.\"\"\"\n",
    "    regex = re.compile(r\"[0-9]{1,3}\")\n",
    "    return [int(_) for _ in re.findall(regex, inst)]\n",
    "\n",
    "def calculate(prog: str) -> int:\n",
    "    \"\"\"Returns final output of a program.\"\"\"\n",
    "    insts = get_instructions(prog)\n",
    "    prods = [np.prod(parse_instruction(_)) for _ in insts]\n",
    "    return sum(prods)\n",
    "\n",
    "prog = load_data(test_path)\n",
    "calculate(prog)"
   ]
  },
  {
   "cell_type": "code",
   "execution_count": 3,
   "id": "13eb84b0",
   "metadata": {},
   "outputs": [
    {
     "data": {
      "text/plain": [
       "np.int64(170068701)"
      ]
     },
     "execution_count": 3,
     "metadata": {},
     "output_type": "execute_result"
    }
   ],
   "source": [
    "prog = load_data(data_path)\n",
    "calculate(prog)"
   ]
  },
  {
   "cell_type": "markdown",
   "id": "bfe60b00",
   "metadata": {},
   "source": [
    "## Part 2\n",
    "\n",
    "As you scan through the corrupted memory, you notice that some of the conditional statements are also still intact. If you handle some of the uncorrupted conditional statements in the program, you might be able to get an even more accurate result.\n",
    "\n",
    "There are two new instructions you'll need to handle:\n",
    "\n",
    "- The `do()` instruction enables future mul instructions.\n",
    "- The `don't()` instruction disables future mul instructions.\n",
    "\n",
    "Only the most recent do() or don't() instruction applies. At the beginning of the program, mul instructions are enabled.\n",
    "\n",
    "For example:\n",
    "\n",
    "x`mul(2,4)`&mul[3,7]!^`don't()`_mul(5,5)+mul(32,64](mul(11,8)un`do()`?`mul(8,5)`)\n",
    "\n",
    "This corrupted memory is similar to the example from before, but this time the mul(5,5) and mul(11,8) instructions are disabled because there is a don't() instruction before them. The other mul instructions function normally, including the one at the end that gets re-enabled by a do() instruction.\n",
    "\n",
    "This time, the sum of the results is `48` `(2*4 + 8*5)`.\n",
    "\n",
    "Handle the new instructions; what do you get if you add up all of the results of just the enabled multiplications?"
   ]
  },
  {
   "cell_type": "code",
   "execution_count": 4,
   "id": "b601afca",
   "metadata": {},
   "outputs": [
    {
     "data": {
      "text/plain": [
       "np.int64(48)"
      ]
     },
     "execution_count": 4,
     "metadata": {},
     "output_type": "execute_result"
    }
   ],
   "source": [
    "def get_enabled(prog: str) -> str:\n",
    "    \"\"\"Returns only enabled regions from a program.\"\"\"\n",
    "    regex = re.compile(r\"(do\\(\\)|don\\'t\\(\\))\")\n",
    "    sections = re.split(regex, prog)\n",
    "    \n",
    "    newprog = []\n",
    "    collect = True\n",
    "    for section in sections:\n",
    "        if section == \"don't()\":\n",
    "            collect = False\n",
    "        elif section == \"do()\":\n",
    "            collect = True\n",
    "        elif collect == True:\n",
    "            newprog.append(section)\n",
    "            \n",
    "    return \"\".join(newprog)\n",
    "    \n",
    "    \n",
    "prog = load_data(test_path1)\n",
    "newprog = get_enabled(prog)\n",
    "calculate(newprog)"
   ]
  },
  {
   "cell_type": "code",
   "execution_count": 5,
   "id": "a4ae2891",
   "metadata": {},
   "outputs": [
    {
     "data": {
      "text/plain": [
       "np.int64(78683433)"
      ]
     },
     "execution_count": 5,
     "metadata": {},
     "output_type": "execute_result"
    }
   ],
   "source": [
    "prog = load_data(data_path)\n",
    "newprog = get_enabled(prog)\n",
    "calculate(newprog)"
   ]
  },
  {
   "cell_type": "code",
   "execution_count": null,
   "id": "470799df",
   "metadata": {},
   "outputs": [],
   "source": []
  }
 ],
 "metadata": {
  "kernelspec": {
   "display_name": "Python 3 (ipykernel)",
   "language": "python",
   "name": "python3"
  },
  "language_info": {
   "codemirror_mode": {
    "name": "ipython",
    "version": 3
   },
   "file_extension": ".py",
   "mimetype": "text/x-python",
   "name": "python",
   "nbconvert_exporter": "python",
   "pygments_lexer": "ipython3",
   "version": "3.12.7"
  }
 },
 "nbformat": 4,
 "nbformat_minor": 5
}
