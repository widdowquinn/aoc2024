{
 "cells": [
  {
   "cell_type": "markdown",
   "id": "077bcfe0",
   "metadata": {},
   "source": [
    "# Day 01"
   ]
  },
  {
   "cell_type": "markdown",
   "id": "5fdad33b",
   "metadata": {},
   "source": [
    "## Part 1\n",
    "\n",
    "You haven't even left yet and the group of Elvish Senior Historians has already hit a problem: their list of locations to check is currently empty. Eventually, someone decides that the best place to check first would be the Chief Historian's office.\n",
    "\n",
    "Upon pouring into the office, everyone confirms that the Chief Historian is indeed nowhere to be found. Instead, the Elves discover an assortment of notes and lists of historically significant locations! This seems to be the planning the Chief Historian was doing before he left. Perhaps these notes can be used to determine which locations to search?\n",
    "\n",
    "Throughout the Chief's office, the historically significant locations are listed not by name but by a unique number called the location ID. To make sure they don't miss anything, The Historians split into two groups, each searching the office and trying to create their own complete list of location IDs.\n",
    "\n",
    "There's just one problem: by holding the two lists up side by side (your puzzle input), it quickly becomes clear that the lists aren't very similar. Maybe you can help The Historians reconcile their lists?\n",
    "\n",
    "For example:\n",
    "\n",
    "```\n",
    "3   4\n",
    "4   3\n",
    "2   5\n",
    "1   3\n",
    "3   9\n",
    "3   3\n",
    "```\n",
    "\n",
    "Maybe the lists are only off by a small amount! To find out, pair up the numbers and measure how far apart they are. Pair up the smallest number in the left list with the smallest number in the right list, then the second-smallest left number with the second-smallest right number, and so on.\n",
    "\n",
    "Within each pair, figure out how far apart the two numbers are; you'll need to add up all of those distances. For example, if you pair up a 3 from the left list with a 7 from the right list, the distance apart is 4; if you pair up a 9 with a 3, the distance apart is 6.\n",
    "\n",
    "In the example list above, the pairs and distances would be as follows:\n",
    "\n",
    "- The smallest number in the left list is 1, and the smallest number in the right list is 3. The distance between them is 2.\n",
    "- The second-smallest number in the left list is 2, and the second-smallest number in the right list is another 3. The distance between them is 1.\n",
    "- The third-smallest number in both lists is 3, so the distance between them is 0.\n",
    "- The next numbers to pair up are 3 and 4, a distance of 1.\n",
    "- The fifth-smallest numbers in each list are 3 and 5, a distance of 2.\n",
    "- Finally, the largest number in the left list is 4, while the largest number in the right list is 9; these are a distance 5 apart.\n",
    "\n",
    "To find the total distance between the left list and the right list, add up the distances between all of the pairs you found. In the example above, this is `2 + 1 + 0 + 1 + 2 + 5`, a total distance of `11`!\n",
    "\n",
    "Your actual left and right lists contain many location IDs. What is the total distance between your lists?"
   ]
  },
  {
   "cell_type": "code",
   "execution_count": 1,
   "id": "a2c713ec",
   "metadata": {},
   "outputs": [],
   "source": [
    "from pathlib import Path"
   ]
  },
  {
   "cell_type": "code",
   "execution_count": 2,
   "id": "55b9cbbc",
   "metadata": {},
   "outputs": [
    {
     "data": {
      "text/plain": [
       "11"
      ]
     },
     "execution_count": 2,
     "metadata": {},
     "output_type": "execute_result"
    }
   ],
   "source": [
    "test_path = Path(\"data/day01_test.txt\")\n",
    "data_path = Path(\"data/day01_data.txt\")\n",
    "\n",
    "def load_data(fpath: Path) -> tuple[list]:\n",
    "    \"\"\"Returns left/right lists, read from file.\"\"\"\n",
    "    left, right = [], []  # Lists to hold left/right values\n",
    "    \n",
    "    for line in fpath.open():  # Populate left/right lists\n",
    "        lval, rval = (int(_) for _ in line.split())\n",
    "        left.append(lval)\n",
    "        right.append(rval)\n",
    "        \n",
    "    return left, right\n",
    "\n",
    "def distance(left: list, right: list) -> int:\n",
    "    \"\"\"Returns the total distance between left/right lists.\n",
    "    \n",
    "    Both left and right lists are sorted in ascending order. Then the\n",
    "    absolute difference between left and right values is calculated for\n",
    "    each pair, and the sum of differences is returned.\n",
    "    \"\"\"\n",
    "    return sum([abs(l - r) for l, r in zip(sorted(left), sorted(right))])\n",
    "\n",
    "# Test data\n",
    "left, right = load_data(test_path)\n",
    "distance(left, right)"
   ]
  },
  {
   "cell_type": "code",
   "execution_count": 3,
   "id": "09a04f8a",
   "metadata": {},
   "outputs": [
    {
     "data": {
      "text/plain": [
       "1660292"
      ]
     },
     "execution_count": 3,
     "metadata": {},
     "output_type": "execute_result"
    }
   ],
   "source": [
    "# Puzzle data\n",
    "left, right = load_data(data_path)\n",
    "distance(left, right)"
   ]
  },
  {
   "cell_type": "markdown",
   "id": "7a7db2c2",
   "metadata": {},
   "source": [
    "## Part 2\n",
    "\n",
    "Your analysis only confirmed what everyone feared: the two lists of location IDs are indeed very different.\n",
    "\n",
    "Or are they?\n",
    "\n",
    "The Historians can't agree on which group made the mistakes or how to read most of the Chief's handwriting, but in the commotion you notice an interesting detail: a lot of location IDs appear in both lists! Maybe the other numbers aren't location IDs at all but rather misinterpreted handwriting.\n",
    "\n",
    "This time, you'll need to figure out exactly how often each number from the left list appears in the right list. Calculate a total similarity score by adding up each number in the left list after multiplying it by the number of times that number appears in the right list.\n",
    "\n",
    "Here are the same example lists again:\n",
    "\n",
    "```\n",
    "3   4\n",
    "4   3\n",
    "2   5\n",
    "1   3\n",
    "3   9\n",
    "3   3\n",
    "```\n",
    "\n",
    "For these example lists, here is the process of finding the similarity score:\n",
    "\n",
    "- The first number in the left list is 3. It appears in the right list three times, so the similarity score increases by `3 * 3 = 9`.\n",
    "- The second number in the left list is 4. It appears in the right list once, so the similarity score increases by `4 * 1 = 4`.\n",
    "- The third number in the left list is 2. It does not appear in the right list, so the similarity score does not increase `(2 * 0 = 0)`.\n",
    "- The fourth number, 1, also does not appear in the right list.\n",
    "- The fifth number, 3, appears in the right list three times; the similarity score increases by `9`.\n",
    "- The last number, 3, appears in the right list three times; the similarity score again increases by `9`.\n",
    "\n",
    "So, for these example lists, the similarity score at the end of this process is `31` `(9 + 4 + 0 + 0 + 9 + 9)`.\n",
    "\n",
    "Once again consider your left and right lists. What is their similarity score?"
   ]
  },
  {
   "cell_type": "code",
   "execution_count": 4,
   "id": "c37d28b4",
   "metadata": {},
   "outputs": [
    {
     "data": {
      "text/plain": [
       "31"
      ]
     },
     "execution_count": 4,
     "metadata": {},
     "output_type": "execute_result"
    }
   ],
   "source": [
    "def sim_score(left: list, right: list) -> int:\n",
    "    \"\"\"Returns the similarity score between left/right lists.\n",
    "    \n",
    "    Iterates over the left list and maintains a score that is the sum\n",
    "    of left list values multiplied by the number of times that value\n",
    "    occurs in the right list.\n",
    "    \"\"\"\n",
    "    score = 0  # Holds similarity score\n",
    "    for val in left:  # Iterate over left list\n",
    "        score += val * right.count(val)  # Update score\n",
    "        \n",
    "    return score\n",
    "\n",
    "# Test data\n",
    "left, right = load_data(test_path)\n",
    "sim_score(left, right)"
   ]
  },
  {
   "cell_type": "code",
   "execution_count": 5,
   "id": "34fdbfb4",
   "metadata": {},
   "outputs": [
    {
     "data": {
      "text/plain": [
       "22776016"
      ]
     },
     "execution_count": 5,
     "metadata": {},
     "output_type": "execute_result"
    }
   ],
   "source": [
    "# Puzzle data\n",
    "left, right = load_data(data_path)\n",
    "sim_score(left, right)"
   ]
  },
  {
   "cell_type": "code",
   "execution_count": null,
   "id": "dd4f8bd5",
   "metadata": {},
   "outputs": [],
   "source": []
  }
 ],
 "metadata": {
  "kernelspec": {
   "display_name": "Python 3 (ipykernel)",
   "language": "python",
   "name": "python3"
  },
  "language_info": {
   "codemirror_mode": {
    "name": "ipython",
    "version": 3
   },
   "file_extension": ".py",
   "mimetype": "text/x-python",
   "name": "python",
   "nbconvert_exporter": "python",
   "pygments_lexer": "ipython3",
   "version": "3.12.7"
  }
 },
 "nbformat": 4,
 "nbformat_minor": 5
}
