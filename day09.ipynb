{
 "cells": [
  {
   "cell_type": "markdown",
   "id": "62f0d8c9",
   "metadata": {},
   "source": [
    "# Day 9"
   ]
  },
  {
   "cell_type": "markdown",
   "id": "f6133ba3",
   "metadata": {},
   "source": [
    "## Part 1\n",
    "\n",
    "Another push of the button leaves you in the familiar hallways of some friendly amphipods! Good thing you each somehow got your own personal mini submarine. The Historians jet away in search of the Chief, mostly by driving directly into walls.\n",
    "\n",
    "While The Historians quickly figure out how to pilot these things, you notice an amphipod in the corner struggling with his computer. He's trying to make more contiguous free space by compacting all of the files, but his program isn't working; you offer to help.\n",
    "\n",
    "He shows you the disk map (your puzzle input) he's already generated. For example:\n",
    "\n",
    "```\n",
    "2333133121414131402\n",
    "```\n",
    "\n",
    "The disk map uses a dense format to represent the layout of files and free space on the disk. The digits alternate between indicating the length of a file and the length of free space.\n",
    "\n",
    "So, a disk map like `12345` would represent a one-block file, two blocks of free space, a three-block file, four blocks of free space, and then a five-block file. A disk map like 90909 would represent three nine-block files in a row (with no free space between them).\n",
    "\n",
    "Each file on disk also has an ID number based on the order of the files as they appear before they are rearranged, starting with ID 0. So, the disk map `12345` has three files: a one-block file with ID 0, a three-block file with ID 1, and a five-block file with ID 2. Using one character for each block where digits are the file ID and . is free space, the disk map `12345` represents these individual blocks:\n",
    "\n",
    "```\n",
    "0..111....22222\n",
    "```\n",
    "\n",
    "The first example above, `2333133121414131402`, represents these individual blocks:\n",
    "\n",
    "```\n",
    "00...111...2...333.44.5555.6666.777.888899\n",
    "```\n",
    "\n",
    "The amphipod would like to move file blocks one at a time from the end of the disk to the leftmost free space block (until there are no gaps remaining between file blocks). For the disk map `12345`, the process looks like this:\n",
    "\n",
    "```\n",
    "0..111....22222\n",
    "02.111....2222.\n",
    "022111....222..\n",
    "0221112...22...\n",
    "02211122..2....\n",
    "022111222......\n",
    "```\n",
    "\n",
    "The first example requires a few more steps:\n",
    "\n",
    "```\n",
    "00...111...2...333.44.5555.6666.777.888899\n",
    "009..111...2...333.44.5555.6666.777.88889.\n",
    "0099.111...2...333.44.5555.6666.777.8888..\n",
    "00998111...2...333.44.5555.6666.777.888...\n",
    "009981118..2...333.44.5555.6666.777.88....\n",
    "0099811188.2...333.44.5555.6666.777.8.....\n",
    "009981118882...333.44.5555.6666.777.......\n",
    "0099811188827..333.44.5555.6666.77........\n",
    "00998111888277.333.44.5555.6666.7.........\n",
    "009981118882777333.44.5555.6666...........\n",
    "009981118882777333644.5555.666............\n",
    "00998111888277733364465555.66.............\n",
    "0099811188827773336446555566..............\n",
    "```\n",
    "\n",
    "The final step of this file-compacting process is to update the filesystem checksum. To calculate the checksum, add up the result of multiplying each of these blocks' position with the file ID number it contains. The leftmost block is in position 0. If a block contains free space, skip it instead.\n",
    "\n",
    "Continuing the first example, the first few blocks' position multiplied by its file ID number are `0 * 0 = 0`, `1 * 0 = 0`, `2 * 9 = 18`, `3 * 9 = 27`, `4 * 8 = 32`, and so on. In this example, the checksum is the sum of these, 1928.\n",
    "\n",
    "Compact the amphipod's hard drive using the process he requested. What is the resulting filesystem checksum? (Be careful copy/pasting the input for this puzzle; it is a single, very long line.)"
   ]
  },
  {
   "cell_type": "code",
   "execution_count": 1,
   "id": "50273fc3",
   "metadata": {},
   "outputs": [],
   "source": [
    "from pathlib import Path\n",
    "\n",
    "import numpy as np"
   ]
  },
  {
   "cell_type": "code",
   "execution_count": 2,
   "id": "0f5c9531",
   "metadata": {},
   "outputs": [
    {
     "name": "stdout",
     "output_type": "stream",
     "text": [
      "[0, 0, None, None, None, 1, 1, 1, None, None, None, 2, None, None, None, 3, 3, 3, None, 4, 4, None, 5, 5, 5, 5, None, 6, 6, 6, 6, None, 7, 7, 7, None, 8, 8, 8, 8, 9, 9]\n"
     ]
    },
    {
     "data": {
      "text/plain": [
       "1928"
      ]
     },
     "execution_count": 2,
     "metadata": {},
     "output_type": "execute_result"
    }
   ],
   "source": [
    "test_path = Path(\"data/day09_test.txt\")\n",
    "data_path = Path(\"data/day09_data.txt\")\n",
    "\n",
    "def load_data(fpath: Path) -> list[int|None]:\n",
    "    \"\"\"Return integer representation of the filesystem.\"\"\"\n",
    "    data = fpath.open().read().strip()\n",
    "    \n",
    "    fsm = []  # holds returned filesystem\n",
    "    idx = 0   # file ID\n",
    "    block = True  # are we in a file block or empty space\n",
    "    for val in list(data):\n",
    "        if block:  # in file block\n",
    "            fsm += [idx] * int(val)\n",
    "            idx += 1\n",
    "        else:      # in empty space\n",
    "            fsm += [None] * int(val)\n",
    "        block = not block\n",
    "        \n",
    "    return fsm\n",
    "    \n",
    "\n",
    "def sort_filesystem(fsm: list[int|None]) -> list[int|None]:\n",
    "    \"\"\"Returns the sorted, fragmented filesystem\"\"\"\n",
    "    sorted_fs = []  # Hold sorted, fragmented filesystem\n",
    "    \n",
    "    # Iterate over the filesystem LTR\n",
    "    while len(fsm):\n",
    "        val = fsm.pop(0)\n",
    "        if val is not None:  # If popped value not a gap...\n",
    "            sorted_fs.append(val)  # ...add to sorted FS\n",
    "        elif len(fsm):  # If popped value is a gap...\n",
    "            move_val = fsm.pop()  # ...add rightmost non-gap to sorted FS\n",
    "            while move_val is None and len(fsm):\n",
    "                move_val = fsm.pop()\n",
    "            if move_val is not None:\n",
    "                sorted_fs.append(move_val)\n",
    "            \n",
    "    return sorted_fs\n",
    "    \n",
    "    \n",
    "def calculate_checksum(filesystem: list[int|None]) -> int:\n",
    "    \"\"\"Return filesystem checksum.\"\"\"\n",
    "    return sum([idx * int(val) for idx, val in enumerate(filesystem)])\n",
    "\n",
    "\n",
    "filesystem = load_data(test_path)\n",
    "print(filesystem)\n",
    "sorted_fs = sort_filesystem(filesystem)\n",
    "calculate_checksum(sorted_fs)"
   ]
  },
  {
   "cell_type": "code",
   "execution_count": 3,
   "id": "86efb65c",
   "metadata": {},
   "outputs": [
    {
     "data": {
      "text/plain": [
       "6519155389266"
      ]
     },
     "execution_count": 3,
     "metadata": {},
     "output_type": "execute_result"
    }
   ],
   "source": [
    "filesystem = load_data(data_path)\n",
    "sorted_fs = sort_filesystem(filesystem)\n",
    "calculate_checksum(sorted_fs)"
   ]
  },
  {
   "cell_type": "markdown",
   "id": "21390eb1",
   "metadata": {},
   "source": [
    "## Part 2\n",
    "\n",
    "Upon completion, two things immediately become clear. First, the disk definitely has a lot more contiguous free space, just like the amphipod hoped. Second, the computer is running much more slowly! Maybe introducing all of that file system fragmentation was a bad idea?\n",
    "\n",
    "The eager amphipod already has a new plan: rather than move individual blocks, he'd like to try compacting the files on his disk by moving whole files instead.\n",
    "\n",
    "This time, attempt to move whole files to the leftmost span of free space blocks that could fit the file. Attempt to move each file exactly once in order of decreasing file ID number starting with the file with the highest file ID number. If there is no span of free space to the left of a file that is large enough to fit the file, the file does not move.\n",
    "\n",
    "The first example from above now proceeds differently:\n",
    "\n",
    "```\n",
    "00...111...2...333.44.5555.6666.777.888899\n",
    "0099.111...2...333.44.5555.6666.777.8888..\n",
    "0099.1117772...333.44.5555.6666.....8888..\n",
    "0099.111777244.333....5555.6666.....8888..\n",
    "00992111777.44.333....5555.6666.....8888..\n",
    "```\n",
    "\n",
    "The process of updating the filesystem checksum is the same; now, this example's checksum would be 2858.\n",
    "\n",
    "Start over, now compacting the amphipod's hard drive using this new method instead. What is the resulting filesystem checksum?"
   ]
  },
  {
   "cell_type": "code",
   "execution_count": 4,
   "id": "b5058105",
   "metadata": {},
   "outputs": [
    {
     "data": {
      "text/plain": [
       "2858"
      ]
     },
     "execution_count": 4,
     "metadata": {},
     "output_type": "execute_result"
    }
   ],
   "source": [
    "def load_data(fpath: Path) -> list[tuple[int|None, int]]:\n",
    "    \"\"\"Returns filesystem representation.\"\"\"\n",
    "    data = fpath.open().read().strip()\n",
    "    \n",
    "    fsm = []  # holds returned filesystem\n",
    "    idx = 0   # file ID\n",
    "    block = True  # are we in a file block or empty space\n",
    "    for val in list(data):  # Iterate over input data\n",
    "        if block:  # in file block\n",
    "            fsm.append((idx, int(val)))  # Add file representation\n",
    "            idx += 1\n",
    "        else:      # in empty space\n",
    "            fsm.append((None, int(val)))  # Add space representation\n",
    "        block = not block\n",
    "        \n",
    "    return fsm\n",
    "    \n",
    "\n",
    "def sort_filesystem(fsm: list[tuple[int|None, int]]) -> list[tuple[int|None, int]]:\n",
    "    # Mark each file/gap as not yet having had a move attempt\n",
    "    fsm = [[fileid, val, False] for (fileid, val) in fsm]\n",
    "    \n",
    "    # Sort the filesystem\n",
    "    while len([_ for _ in fsm if _[0] and _[2] is False]):\n",
    "        \n",
    "        # Find rightmost file to work with (can't yet have tried a move)\n",
    "        ridx = len(fsm) - 1\n",
    "        while fsm[ridx][0] is None or fsm[ridx][2] is True:  # Iterate RTL\n",
    "            ridx -= 1\n",
    "        # Working with rightmost file\n",
    "        fsm[ridx][2] = True\n",
    "        move_file = fsm[ridx]  # Work with this file\n",
    "        \n",
    "        # Find leftmost gap to fit the file (if there is one)\n",
    "        test_gap = None\n",
    "        for lidx in range(ridx):  # Iterate LTR\n",
    "            # Keep the index/space if it's longer than the file being considered\n",
    "            if fsm[lidx][0] is None and fsm[lidx][1] >= move_file[1]:\n",
    "                test_gap = fsm[lidx]\n",
    "                break        \n",
    "    \n",
    "        # If there's a suitable gap, move the file\n",
    "        if test_gap is not None:\n",
    "            if test_gap[1] == move_file[1]:  # file fits exactly\n",
    "                # Swap gap and file\n",
    "                fsm = fsm[:lidx] + [move_file] + fsm[lidx+1:ridx] + [test_gap] + fsm[ridx+1:]\n",
    "            elif test_gap[1] > move_file[1]:  # file fits within gap\n",
    "                fsm = fsm[:lidx] + [move_file, [None, test_gap[1] - move_file[1], False]] + \\\n",
    "                      fsm[lidx+1:ridx] + [[None, move_file[1], False]] + fsm[ridx+1:]\n",
    "            # Merge adjacent gaps after move, proceeding LTR\n",
    "            newfsm = [fsm.pop(0)]\n",
    "            for pos in fsm:\n",
    "                if newfsm[-1][0] is None and pos[0] is None:\n",
    "                    newfsm[-1][1] += pos[1]\n",
    "                else:\n",
    "                    newfsm.append(pos)\n",
    "            fsm = newfsm\n",
    "    \n",
    "    # Expand filesystem and return\n",
    "    sorted_fs = []\n",
    "    for fileid, val, seen in fsm:\n",
    "        sorted_fs += [fileid] * val\n",
    "    return sorted_fs\n",
    "    \n",
    "    \n",
    "def calculate_checksum(filesystem) -> int:\n",
    "    \"\"\"Returns filesystem checksum\"\"\"\n",
    "    return sum([idx * int(val) for idx, val in enumerate(filesystem) if val is not None])\n",
    "\n",
    "\n",
    "filesystem = load_data(test_path)\n",
    "sorted_fs = sort_filesystem(filesystem)\n",
    "calculate_checksum(sorted_fs)"
   ]
  },
  {
   "cell_type": "code",
   "execution_count": 5,
   "id": "aa4b90b2",
   "metadata": {},
   "outputs": [
    {
     "data": {
      "text/plain": [
       "6547228115826"
      ]
     },
     "execution_count": 5,
     "metadata": {},
     "output_type": "execute_result"
    }
   ],
   "source": [
    "filesystem = load_data(data_path)\n",
    "sorted_fs = sort_filesystem(filesystem)\n",
    "calculate_checksum(sorted_fs)"
   ]
  },
  {
   "cell_type": "code",
   "execution_count": null,
   "id": "58d8e2b1",
   "metadata": {},
   "outputs": [],
   "source": []
  }
 ],
 "metadata": {
  "kernelspec": {
   "display_name": "Python 3 (ipykernel)",
   "language": "python",
   "name": "python3"
  },
  "language_info": {
   "codemirror_mode": {
    "name": "ipython",
    "version": 3
   },
   "file_extension": ".py",
   "mimetype": "text/x-python",
   "name": "python",
   "nbconvert_exporter": "python",
   "pygments_lexer": "ipython3",
   "version": "3.12.7"
  }
 },
 "nbformat": 4,
 "nbformat_minor": 5
}
