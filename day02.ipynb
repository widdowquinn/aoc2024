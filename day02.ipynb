{
 "cells": [
  {
   "cell_type": "markdown",
   "id": "5940baff",
   "metadata": {},
   "source": [
    "# Day 02"
   ]
  },
  {
   "cell_type": "markdown",
   "id": "7ab30ebf",
   "metadata": {},
   "source": [
    "## Part 1\n",
    "\n",
    "Fortunately, the first location The Historians want to search isn't a long walk from the Chief Historian's office.\n",
    "\n",
    "While the Red-Nosed Reindeer nuclear fusion/fission plant appears to contain no sign of the Chief Historian, the engineers there run up to you as soon as they see you. Apparently, they still talk about the time Rudolph was saved through molecular synthesis from a single electron.\n",
    "\n",
    "They're quick to add that - since you're already here - they'd really appreciate your help analyzing some unusual data from the Red-Nosed reactor. You turn to check if The Historians are waiting for you, but they seem to have already divided into groups that are currently searching every corner of the facility. You offer to help with the unusual data.\n",
    "\n",
    "The unusual data (your puzzle input) consists of many reports, one report per line. Each report is a list of numbers called levels that are separated by spaces. For example:\n",
    "\n",
    "```\n",
    "7 6 4 2 1\n",
    "1 2 7 8 9\n",
    "9 7 6 2 1\n",
    "1 3 2 4 5\n",
    "8 6 4 4 1\n",
    "1 3 6 7 9\n",
    "```\n",
    "\n",
    "This example data contains six reports each containing five levels.\n",
    "\n",
    "The engineers are trying to figure out which reports are safe. The Red-Nosed reactor safety systems can only tolerate levels that are either gradually increasing or gradually decreasing. So, a report only counts as safe if both of the following are true:\n",
    "\n",
    "- The levels are either all increasing or all decreasing.\n",
    "- Any two adjacent levels differ by at least one and at most three.\n",
    "\n",
    "In the example above, the reports can be found safe or unsafe by checking those rules:\n",
    "\n",
    "- `7 6 4 2 1`: Safe because the levels are all decreasing by 1 or 2.\n",
    "- `1 2 7 8 9`: Unsafe because 2 7 is an increase of 5.\n",
    "- `9 7 6 2 1`: Unsafe because 6 2 is a decrease of 4.\n",
    "- `1 3 2 4 5`: Unsafe because 1 3 is increasing but 3 2 is decreasing.\n",
    "- `8 6 4 4 1`: Unsafe because 4 4 is neither an increase or a decrease.\n",
    "- `1 3 6 7 9`: Safe because the levels are all increasing by 1, 2, or 3.\n",
    "\n",
    "So, in this example, `2` reports are safe.\n",
    "\n",
    "Analyze the unusual data from the engineers. How many reports are safe?"
   ]
  },
  {
   "cell_type": "code",
   "execution_count": 1,
   "id": "87686781",
   "metadata": {},
   "outputs": [],
   "source": [
    "from pathlib import Path\n",
    "\n",
    "import numpy as np"
   ]
  },
  {
   "cell_type": "code",
   "execution_count": 2,
   "id": "d612a8f3",
   "metadata": {},
   "outputs": [
    {
     "data": {
      "text/plain": [
       "2"
      ]
     },
     "execution_count": 2,
     "metadata": {},
     "output_type": "execute_result"
    }
   ],
   "source": [
    "test_path = Path(\"data/day02_test.txt\")\n",
    "data_path = Path(\"data/day02_data.txt\")\n",
    "\n",
    "def load_data(fpath: Path) -> list[np.array]:\n",
    "    \"\"\"Return a list of reports read from file (as np.arrays).\"\"\"\n",
    "    reports = []\n",
    "    \n",
    "    for line in fpath.open():  # Populate reports\n",
    "        reports.append(np.array([int(_) for _ in line.split()]))\n",
    "        \n",
    "    return reports\n",
    "\n",
    "def gradient(report: np.array) -> tuple[int, int, np.array, np.array]:\n",
    "    \"\"\"Returns differences between successive entries in the report.\n",
    "    \n",
    "    Elements in the tuple (in order):\n",
    "    \n",
    "    - -1/0/1 - decreasing/other/increasing\n",
    "    - count of differences that are zero or go against trend\n",
    "    - boolean mask of differences that are zero or go against trend\n",
    "    - indices of differences that are zero or go against trend\n",
    "    \"\"\"\n",
    "    diffs = np.diff(report)\n",
    "    \n",
    "    if sum(diffs) < 0:  # decreasing\n",
    "        return (-1, sum(diffs >= 0), diffs >= 0, np.where(diffs >= 0))\n",
    "    if sum(diffs) > 0:  # increasing\n",
    "        return (1, sum(diffs <= 0), diffs <= 0, np.where(diffs <= 0))\n",
    "    \n",
    "    return (0, sum(diffs != 0), diffs != 0, diffs)\n",
    "    \n",
    "\n",
    "def is_monotonic(report: np.array) -> bool:\n",
    "    \"\"\"Returns True if the report is monotonic, False otherwise\"\"\"\n",
    "    grad = gradient(report)\n",
    "    \n",
    "    if grad[0] != 0 and grad[1] == 0:\n",
    "        return True\n",
    "    return False\n",
    "    \n",
    "\n",
    "def bad_steps(report: np.array, min: int=1, max: int=3) -> tuple[int, np.array, np.array, tuple[np.array]]:\n",
    "    \"\"\"Returns bad steps (outwith range) between successive entries in the report.\n",
    "    \n",
    "    Elements in the tuple (in order):\n",
    "    \n",
    "    - count of bad steps\n",
    "    - boolean mask of bad steps\n",
    "    - differences between successive elements\n",
    "    - indices of bad steps\n",
    "    \"\"\"\n",
    "    diffs = np.diff(report)\n",
    "    bad_steps = (abs(diffs) > max) | (abs(diffs) < min)\n",
    "    \n",
    "    return (sum(bad_steps), bad_steps, diffs, np.where(bad_steps == True))\n",
    "    \n",
    "    \n",
    "def is_within_step_size(report: np.array, min: int=1, max: int=3) -> bool:\n",
    "    \"\"\"Returns True if all steps are within step size limits, False otherwise.\"\"\"\n",
    "    steps = bad_steps(report, min, max)\n",
    "    \n",
    "    if steps[0] == 0:\n",
    "        return True\n",
    "    return False\n",
    "\n",
    "\n",
    "def assess_reports(reports: list[np.array]) -> tuple[list[np.array], list[np.array]]:\n",
    "    \"\"\"Returns tuple of (safe reports, unsafe reports).\"\"\"\n",
    "    safe_reports, unsafe_reports = [], []\n",
    "    \n",
    "    for report in reports:        \n",
    "        if is_monotonic(report) and is_within_step_size(report):\n",
    "            safe_reports.append(report)\n",
    "        else:\n",
    "            unsafe_reports.append(report)\n",
    "        \n",
    "        \n",
    "    return (safe_reports, unsafe_reports)\n",
    "\n",
    "reports = load_data(test_path)\n",
    "safe, unsafe = assess_reports(reports)\n",
    "len(safe)"
   ]
  },
  {
   "cell_type": "code",
   "execution_count": 3,
   "id": "dc6a819c",
   "metadata": {},
   "outputs": [
    {
     "data": {
      "text/plain": [
       "213"
      ]
     },
     "execution_count": 3,
     "metadata": {},
     "output_type": "execute_result"
    }
   ],
   "source": [
    "reports = load_data(data_path)\n",
    "safe, unsafe = assess_reports(reports)\n",
    "len(safe)"
   ]
  },
  {
   "cell_type": "markdown",
   "id": "4830fc98",
   "metadata": {},
   "source": [
    "## Part 2\n",
    "\n",
    "The engineers are surprised by the low number of safe reports until they realize they forgot to tell you about the Problem Dampener.\n",
    "\n",
    "The Problem Dampener is a reactor-mounted module that lets the reactor safety systems tolerate a single bad level in what would otherwise be a safe report. It's like the bad level never happened!\n",
    "\n",
    "Now, the same rules apply as before, except if removing a single level from an unsafe report would make it safe, the report instead counts as safe.\n",
    "\n",
    "More of the above example's reports are now safe:\n",
    "\n",
    "- `7 6 4 2 1`: Safe without removing any level.\n",
    "- `1 2 7 8 9`: Unsafe regardless of which level is removed.\n",
    "- `9 7 6 2 1`: Unsafe regardless of which level is removed.\n",
    "- `1 3 2 4 5`: Safe by removing the second level, 3.\n",
    "- `8 6 4 4 1`: Safe by removing the third level, 4.\n",
    "- `1 3 6 7 9`: Safe without removing any level.\n",
    "\n",
    "Thanks to the Problem Dampener, `4` reports are actually safe!\n",
    "\n",
    "Update your analysis by handling situations where the Problem Dampener can remove a single level from unsafe reports. How many reports are now safe?\n"
   ]
  },
  {
   "cell_type": "code",
   "execution_count": 4,
   "id": "150baefc",
   "metadata": {},
   "outputs": [
    {
     "data": {
      "text/plain": [
       "4"
      ]
     },
     "execution_count": 4,
     "metadata": {},
     "output_type": "execute_result"
    }
   ],
   "source": [
    "def dampener_assess_reports(reports: list[np.array]) -> tuple[list[np.array, np.array]]:\n",
    "    \"\"\"Returns tuple of (safe_reports, unsafe_reports)\"\"\"\n",
    "    safe_reports, unsafe_reports = [], []\n",
    "    \n",
    "    for report in reports:\n",
    "\n",
    "        # Report meets original criteria\n",
    "        if is_monotonic(report) and is_within_step_size(report):\n",
    "            safe_reports.append(report)\n",
    "        elif gradient(report)[1] > 1:  # Two gradient issues, the report can't be fixed\n",
    "            unsafe_reports.append(report)\n",
    "        else:  # There's a potential fix by deleting a single element\n",
    "            \n",
    "            # A single gradient issue - delete element to check\n",
    "            if gradient(report)[1] == 1:\n",
    "                newrep = np.delete(report, gradient(report)[3][0][0] + 1)\n",
    "                if is_monotonic(newrep) and is_within_step_size(newrep):\n",
    "                    safe_reports.append(report)\n",
    "                    continue\n",
    "                # If that doesn't work, does deleting the first element help?\n",
    "                elif gradient(report)[3][0][0] == 0:\n",
    "                    newrep = np.delete(report, gradient(report)[3][0][0])\n",
    "                    if is_monotonic(newrep) and is_within_step_size(newrep):\n",
    "                        safe_reports.append(report)\n",
    "                        continue\n",
    "                    \n",
    "            # A single step size issue - delete element to check\n",
    "            if bad_steps(report)[0] == 1:\n",
    "                newrep = np.delete(report, bad_steps(report)[3][0][0] + 1)\n",
    "                if is_monotonic(newrep) and is_within_step_size(newrep):\n",
    "                    safe_reports.append(report)\n",
    "                    continue       \n",
    "                # Check if deleting the first element helps\n",
    "                if bad_steps(report)[3][0][0] == 0:\n",
    "                    newrep = np.delete(report, bad_steps(report)[3][0][0])\n",
    "                    if is_monotonic(newrep) and is_within_step_size(newrep):\n",
    "                        safe_reports.append(report)\n",
    "                        continue\n",
    "                        \n",
    "            # Couldn't fix - the report is unsafe\n",
    "            unsafe_reports.append(report)\n",
    "                                \n",
    "    return (safe_reports, unsafe_reports)\n",
    "        \n",
    "reports = load_data(test_path)\n",
    "safe, unsafe = dampener_assess_reports(reports)\n",
    "len(safe)"
   ]
  },
  {
   "cell_type": "code",
   "execution_count": 5,
   "id": "9939749b",
   "metadata": {},
   "outputs": [
    {
     "data": {
      "text/plain": [
       "285"
      ]
     },
     "execution_count": 5,
     "metadata": {},
     "output_type": "execute_result"
    }
   ],
   "source": [
    "reports = load_data(data_path)\n",
    "safe, unsafe = dampener_assess_reports(reports)\n",
    "len(safe)"
   ]
  },
  {
   "cell_type": "code",
   "execution_count": null,
   "id": "153c55f4",
   "metadata": {},
   "outputs": [],
   "source": []
  }
 ],
 "metadata": {
  "kernelspec": {
   "display_name": "Python 3 (ipykernel)",
   "language": "python",
   "name": "python3"
  },
  "language_info": {
   "codemirror_mode": {
    "name": "ipython",
    "version": 3
   },
   "file_extension": ".py",
   "mimetype": "text/x-python",
   "name": "python",
   "nbconvert_exporter": "python",
   "pygments_lexer": "ipython3",
   "version": "3.12.7"
  }
 },
 "nbformat": 4,
 "nbformat_minor": 5
}
