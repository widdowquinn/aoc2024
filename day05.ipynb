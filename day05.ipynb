{
 "cells": [
  {
   "cell_type": "markdown",
   "id": "9b2eea76",
   "metadata": {},
   "source": [
    "# Day 5"
   ]
  },
  {
   "cell_type": "markdown",
   "id": "6591f697",
   "metadata": {},
   "source": [
    "## Part 1\n",
    "\n",
    "Satisfied with their search on Ceres, the squadron of scholars suggests subsequently scanning the stationery stacks of sub-basement 17.\n",
    "\n",
    "The North Pole printing department is busier than ever this close to Christmas, and while The Historians continue their search of this historically significant facility, an Elf operating a very familiar printer beckons you over.\n",
    "\n",
    "The Elf must recognize you, because they waste no time explaining that the new sleigh launch safety manual updates won't print correctly. Failure to update the safety manuals would be dire indeed, so you offer your services.\n",
    "\n",
    "Safety protocols clearly indicate that new pages for the safety manuals must be printed in a very specific order. The notation `X|Y` means that if both page number `X` and page number `Y` are to be produced as part of an update, page number `X` must be printed at some point before page number `Y`.\n",
    "\n",
    "The Elf has for you both the page ordering rules and the pages to produce in each update (your puzzle input), but can't figure out whether each update has the pages in the right order.\n",
    "\n",
    "For example:\n",
    "\n",
    "```\n",
    "47|53\n",
    "97|13\n",
    "97|61\n",
    "97|47\n",
    "75|29\n",
    "61|13\n",
    "75|53\n",
    "29|13\n",
    "97|29\n",
    "53|29\n",
    "61|53\n",
    "97|53\n",
    "61|29\n",
    "47|13\n",
    "75|47\n",
    "97|75\n",
    "47|61\n",
    "75|61\n",
    "47|29\n",
    "75|13\n",
    "53|13\n",
    "\n",
    "75,47,61,53,29\n",
    "97,61,53,29,13\n",
    "75,29,13\n",
    "75,97,47,61,53\n",
    "61,13,29\n",
    "97,13,75,29,47\n",
    "```\n",
    "\n",
    "The first section specifies the page ordering rules, one per line. The first rule, `47|53`, means that if an update includes both page number `47` and page number `53`, then page number `47` must be printed at some point before page number `53`. (`47` doesn't necessarily need to be immediately before `53`; other pages are allowed to be between them.)\n",
    "\n",
    "The second section specifies the page numbers of each update. Because most safety manuals are different, the pages needed in the updates are different too. The first update, `75,47,61,53,29`, means that the update consists of page numbers `75`, `47`, `61`, `53`, and `29`.\n",
    "\n",
    "To get the printers going as soon as possible, start by identifying which updates are already in the right order.\n",
    "\n",
    "In the above example, the first update (`75,47,61,53,29`) is in the right order:\n",
    "\n",
    "- `75` is correctly first because there are rules that put each other page after it: `75|47`, `75|61`, `75|53`, and `75|29`.\n",
    "- `47` is correctly second because `75` must be before it (`75|47`) and every other page must be after it according to `47|61`, `47|53`, and `47|29`.\n",
    "- `61` is correctly in the middle because `75` and `47` are before it (`75|61` and `47|61`) and `53` and `29` are after it (`61|53` and `61|29`).\n",
    "- `53` is correctly fourth because it is before page number `29` (`53|29`).\n",
    "- `29` is the only page left and so is correctly last.\n",
    "\n",
    "Because the first update does not include some page numbers, the ordering rules involving those missing page numbers are ignored.\n",
    "\n",
    "The second and third updates are also in the correct order according to the rules. Like the first update, they also do not include every page number, and so only some of the ordering rules apply - within each update, the ordering rules that involve missing page numbers are not used.\n",
    "\n",
    "The fourth update, `75,97,47,61,53`, is not in the correct order: it would print `75` before `97`, which violates the rule `97|75`.\n",
    "\n",
    "The fifth update, `61,13,29`, is also not in the correct order, since it breaks the rule `29|13`.\n",
    "\n",
    "The last update, `97,13,75,29,47`, is not in the correct order due to breaking several rules.\n",
    "\n",
    "For some reason, the Elves also need to know the middle page number of each update being printed. Because you are currently only printing the correctly-ordered updates, you will need to find the middle page number of each correctly-ordered update. In the above example, the correctly-ordered updates are:\n",
    "\n",
    "```\n",
    "75,47,61,53,29\n",
    "97,61,53,29,13\n",
    "75,29,13\n",
    "```\n",
    "\n",
    "These have middle page numbers of `61`, `53`, and `29` respectively. Adding these page numbers together gives `143`.\n",
    "\n",
    "Of course, you'll need to be careful: the actual list of page ordering rules is bigger and more complicated than the above example.\n",
    "\n",
    "Determine which updates are already in the correct order. What do you get if you add up the middle page number from those correctly-ordered updates?"
   ]
  },
  {
   "cell_type": "code",
   "execution_count": 1,
   "id": "d18a4a7e",
   "metadata": {},
   "outputs": [],
   "source": [
    "from collections import defaultdict\n",
    "from math import floor\n",
    "from pathlib import Path"
   ]
  },
  {
   "cell_type": "code",
   "execution_count": 2,
   "id": "d373041c",
   "metadata": {},
   "outputs": [
    {
     "data": {
      "text/plain": [
       "143"
      ]
     },
     "execution_count": 2,
     "metadata": {},
     "output_type": "execute_result"
    }
   ],
   "source": [
    "test_path = Path(\"data/day05_test.txt\")\n",
    "data_path = Path(\"data/day05_data.txt\")\n",
    "\n",
    "def load_data(fpath: Path) -> tuple[dict[str: list[str]], list[list[str]]]:\n",
    "    \"\"\"Returns a dictionary of rules and list of updates.\n",
    "    \n",
    "    Rules are keyed by a page number, with the value a list of page\n",
    "    numbers that must only be found after the keying page.\n",
    "    \n",
    "    Updates are a list of page numbers.\n",
    "    \"\"\"\n",
    "    rules = []\n",
    "    updates = []\n",
    "    \n",
    "    # Read rules and updates\n",
    "    target = rules\n",
    "    for line in [_.strip() for _ in fpath.open().readlines()]:\n",
    "        if len(line):\n",
    "            target.append(line)\n",
    "        else:\n",
    "            target = updates\n",
    "            \n",
    "    # Process updates\n",
    "    updates = [_.split(\",\") for _ in updates]\n",
    "    \n",
    "    # Process rules into dictionary, keyed by page\n",
    "    rules = [_.split(\"|\") for _ in rules]\n",
    "    ruledict = defaultdict(list)\n",
    "    for p1, p2 in rules:  # values in the list must come after the key\n",
    "        ruledict[p1].append(p2)\n",
    "    \n",
    "    return ruledict, updates\n",
    "            \n",
    "\n",
    "def check_updates(updates: list[list[str]], rules: dict[str: list[str]]) -> tuple[list[list[str]], list[list[str]]]:\n",
    "    \"\"\"Returns a tuple of good updates and bad updates.\n",
    "    \n",
    "    Good updates are those where all pages are already in order, as\n",
    "    per the passed rule dictionary\n",
    "    \"\"\"\n",
    "    good = []  # holds complying updates\n",
    "    bad = []  # holds non-complying updates\n",
    "    \n",
    "    for update in updates:\n",
    "        update_good = True  # Flag to indicate whether update complies\n",
    "        for key in update:  # Check each update against the rules\n",
    "            idx_k = update.index(key)  # Position of current key\n",
    "            for page in rules[key]:    # Check following pages\n",
    "                if (page in update) and (update.index(page) < idx_k):  # Following page non-compliant\n",
    "                    update_good = False           \n",
    "        # Filter page into compliant/non-compliant\n",
    "        if not update_good:\n",
    "            bad.append(update)\n",
    "        else:\n",
    "            good.append(update)\n",
    "        \n",
    "    return good, bad\n",
    "    \n",
    "\n",
    "def middle_page_sum(updates: list[list[str]]) -> int:\n",
    "    \"\"\"Returns the sum of the middle page numbers of the passed updates\"\"\"\n",
    "    total = 0\n",
    "    \n",
    "    # Sum the middle pages of each update\n",
    "    for update in updates:\n",
    "        idx = floor(len(update) / 2)\n",
    "        total += int(update[idx])\n",
    "        \n",
    "    return total\n",
    "\n",
    "\n",
    "rules, updates = load_data(test_path)\n",
    "good, bad = check_updates(updates, rules)\n",
    "middle_page_sum(good)"
   ]
  },
  {
   "cell_type": "code",
   "execution_count": 3,
   "id": "d2de222f",
   "metadata": {},
   "outputs": [
    {
     "data": {
      "text/plain": [
       "7365"
      ]
     },
     "execution_count": 3,
     "metadata": {},
     "output_type": "execute_result"
    }
   ],
   "source": [
    "rules, updates = load_data(data_path)\n",
    "good, bad = check_updates(updates, rules)\n",
    "middle_page_sum(good)"
   ]
  },
  {
   "cell_type": "markdown",
   "id": "f89d6d09",
   "metadata": {},
   "source": [
    "## Part 2\n",
    "\n",
    "While the Elves get to work printing the correctly-ordered updates, you have a little time to fix the rest of them.\n",
    "\n",
    "For each of the incorrectly-ordered updates, use the page ordering rules to put the page numbers in the right order. For the above example, here are the three incorrectly-ordered updates and their correct orderings:\n",
    "\n",
    "- `75,97,47,61,53` becomes 97,75,47,61,53`.\n",
    "- `61,13,29` becomes `61,29,13`.\n",
    "- `97,13,75,29,47` becomes 97,75,47,29,13`.\n",
    "\n",
    "After taking only the incorrectly-ordered updates and ordering them correctly, their middle page numbers are `47`, `29`, and `47`. Adding these together produces `123`.\n",
    "\n",
    "Find the updates which are not in the correct order. What do you get if you add up the middle page numbers after correctly ordering just those updates?"
   ]
  },
  {
   "cell_type": "code",
   "execution_count": 4,
   "id": "c62ab632",
   "metadata": {},
   "outputs": [
    {
     "data": {
      "text/plain": [
       "123"
      ]
     },
     "execution_count": 4,
     "metadata": {},
     "output_type": "execute_result"
    }
   ],
   "source": [
    "def reorder_update(update: list[str], rules: dict[str: list[str]]) -> list[str]:\n",
    "    \"\"\"Returns the passed update, reordered to comply with the passed rules.\"\"\"\n",
    "    # Check each rule against the update\n",
    "    for key in rules:\n",
    "        # If the rule is present and has any following pages in the update...\n",
    "        if key in update and set(update).intersection(set(rules[key])):\n",
    "            # ...find the earliest following page...\n",
    "            idx_min_rule = min([update.index(_) for _ in rules[key] if _ in update])\n",
    "            # ...and, if it's found before the rule key, move the rule key just ahead of it\n",
    "            if update.index(key) > idx_min_rule:\n",
    "                update.remove(key)\n",
    "                update = update[:idx_min_rule] + [key] + update[idx_min_rule:]\n",
    "                \n",
    "    return update\n",
    "\n",
    "\n",
    "def reorder_bad(updates: list[list[str]], rules: dict[str: list[str]]) -> list[list[str]]:\n",
    "    \"\"\"Return the passed updates, with each reordered to comply with the passed ruleset.\"\"\"\n",
    "    return [reorder_update(_, rules) for _ in updates]\n",
    "\n",
    "rules, updates = load_data(test_path)\n",
    "good, bad = check_updates(updates, rules)\n",
    "bad = reorder_bad(bad, rules)\n",
    "middle_page_sum(bad)"
   ]
  },
  {
   "cell_type": "code",
   "execution_count": 5,
   "id": "bcd9e764",
   "metadata": {},
   "outputs": [
    {
     "data": {
      "text/plain": [
       "5770"
      ]
     },
     "execution_count": 5,
     "metadata": {},
     "output_type": "execute_result"
    }
   ],
   "source": [
    "rules, updates = load_data(data_path)\n",
    "good, bad = check_updates(updates, rules)\n",
    "bad = reorder_bad(bad, rules)\n",
    "middle_page_sum(bad)"
   ]
  },
  {
   "cell_type": "code",
   "execution_count": null,
   "id": "31f07819",
   "metadata": {},
   "outputs": [],
   "source": []
  }
 ],
 "metadata": {
  "kernelspec": {
   "display_name": "Python 3 (ipykernel)",
   "language": "python",
   "name": "python3"
  },
  "language_info": {
   "codemirror_mode": {
    "name": "ipython",
    "version": 3
   },
   "file_extension": ".py",
   "mimetype": "text/x-python",
   "name": "python",
   "nbconvert_exporter": "python",
   "pygments_lexer": "ipython3",
   "version": "3.12.7"
  }
 },
 "nbformat": 4,
 "nbformat_minor": 5
}
