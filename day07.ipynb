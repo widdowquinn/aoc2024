{
 "cells": [
  {
   "cell_type": "markdown",
   "id": "8ce2906a",
   "metadata": {},
   "source": [
    "# Day 7"
   ]
  },
  {
   "cell_type": "markdown",
   "id": "2d7033ac",
   "metadata": {},
   "source": [
    "## Part 1\n",
    "\n",
    "The Historians take you to a familiar rope bridge over a river in the middle of a jungle. The Chief isn't on this side of the bridge, though; maybe he's on the other side?\n",
    "\n",
    "When you go to cross the bridge, you notice a group of engineers trying to repair it. (Apparently, it breaks pretty frequently.) You won't be able to cross until it's fixed.\n",
    "\n",
    "You ask how long it'll take; the engineers tell you that it only needs final calibrations, but some young elephants were playing nearby and stole all the operators from their calibration equations! They could finish the calibrations if only someone could determine which test values could possibly be produced by placing any combination of operators into their calibration equations (your puzzle input).\n",
    "\n",
    "For example:\n",
    "\n",
    "```\n",
    "190: 10 19\n",
    "3267: 81 40 27\n",
    "83: 17 5\n",
    "156: 15 6\n",
    "7290: 6 8 6 15\n",
    "161011: 16 10 13\n",
    "192: 17 8 14\n",
    "21037: 9 7 18 13\n",
    "292: 11 6 16 20\n",
    "```\n",
    "\n",
    "Each line represents a single equation. The test value appears before the colon on each line; it is your job to determine whether the remaining numbers can be combined with operators to produce the test value.\n",
    "\n",
    "Operators are always evaluated left-to-right, not according to precedence rules. Furthermore, numbers in the equations cannot be rearranged. Glancing into the jungle, you can see elephants holding two different types of operators: add (`+`) and multiply (`*`).\n",
    "\n",
    "Only three of the above equations can be made true by inserting operators:\n",
    "\n",
    "- `190: 10 19` has only one position that accepts an operator: between 10 and 19. Choosing + would give 29, but choosing * would give the test value (10 * 19 = 190).\n",
    "- `3267: 81 40 27` has two positions for operators. Of the four possible configurations of the operators, two cause the right side to match the test value: 81 + 40 * 27 and 81 * 40 + 27 both equal 3267 (when evaluated left-to-right)!\n",
    "- `292: 11 6 16 20` can be solved in exactly one way: 11 + 6 * 16 + 20.\n",
    "\n",
    "The engineers just need the total calibration result, which is the sum of the test values from just the equations that could possibly be true. In the above example, the sum of the test values for the three equations listed above is `3749`.\n",
    "\n",
    "Determine which equations could possibly be true. What is their total calibration result?"
   ]
  },
  {
   "cell_type": "code",
   "execution_count": 1,
   "id": "063ebece",
   "metadata": {},
   "outputs": [],
   "source": [
    "from operator import add, mul\n",
    "from pathlib import Path"
   ]
  },
  {
   "cell_type": "code",
   "execution_count": 2,
   "id": "927a1071",
   "metadata": {},
   "outputs": [
    {
     "data": {
      "text/plain": [
       "3749"
      ]
     },
     "execution_count": 2,
     "metadata": {},
     "output_type": "execute_result"
    }
   ],
   "source": [
    "test_path = Path(\"data/day07_test.txt\")\n",
    "data_path = Path(\"data/day07_data.txt\")\n",
    "\n",
    "def load_data(fpath: Path) -> list[tuple[int, list[int]]]:\n",
    "    \"\"\"Returns a list of (target, values) tuples\"\"\"\n",
    "    output = []\n",
    "    \n",
    "    for line in fpath.open().readlines():\n",
    "        data = line.strip().split(\": \")\n",
    "        target = int(data[0])\n",
    "        vals = [int(_) for _ in data[1].split()]\n",
    "        output.append((vals, target))\n",
    "        \n",
    "    return output\n",
    "\n",
    "\n",
    "def test(vals: list[int], target:int, curval: int|None=None, ops: list[str]|None=None) -> tuple[bool, list[str]]:\n",
    "    \"\"\"Returns True if the operator/values combination makes the target.\n",
    "    \n",
    "    Depth-first search exploring all combinations of operators\n",
    "    until the target value is reached; returns False if the \n",
    "    target is not reached.\n",
    "    \"\"\"\n",
    "    # Top level\n",
    "    if curval is None:\n",
    "        curval = vals.pop(0)\n",
    "        ops = []\n",
    "        \n",
    "    # End of all elements\n",
    "    if len(vals) == 0:\n",
    "        return False, ops\n",
    "    \n",
    "    # Get value to work with\n",
    "    val = vals.pop(0)\n",
    "    \n",
    "    # Does addition hit the target?\n",
    "    ops.append(\"+\")\n",
    "    if add(curval, val) == target and len(vals) == 0:\n",
    "        return True, ops  # We have a solution\n",
    "    \n",
    "    # Addition didn't work, descend the tree\n",
    "    retval, retops = test(vals[:], target, add(curval, val), ops[:])\n",
    "    if retval:  # Descent found a solution, return it\n",
    "        return retval, retops\n",
    "    ops.pop()  # Discard addition\n",
    "    \n",
    "    # Descending the tree didn't work, try multiplication\n",
    "    ops.append(\"*\")\n",
    "    if mul(curval, val) == target and len(vals) == 0:\n",
    "        return True, ops  # We have a solution\n",
    "\n",
    "    # Multiplication didn't work, descend the tree\n",
    "    retval, retops = test(vals[:], target, mul(curval, val), ops[:])\n",
    "    if retval:  # Descent found a solution, return it\n",
    "        return retval, retops\n",
    "    ops.pop()  # Discard multiplication\n",
    "    return retval, ops\n",
    "    \n",
    "\n",
    "def test_data(data: list[tuple[int, list[int]]]) -> list[tuple[tuple[bool, list[str]], int]]:\n",
    "    \"\"\"Returns list of test results and corresponding targets\"\"\"\n",
    "    results = []\n",
    "\n",
    "    for vals, target in data:\n",
    "        results.append((test(vals[:], target), target))\n",
    "        \n",
    "    return results\n",
    "        \n",
    "\n",
    "def get_total(data: list[tuple[int, list[int]]]) -> int:\n",
    "    \"\"\"Returns sum of targets for equations passing the test\"\"\"\n",
    "    result = test_data(data)\n",
    "    return sum([int(target) for (retval, target) in result if retval[0]])\n",
    "\n",
    "\n",
    "data = load_data(test_path)\n",
    "get_total(data)"
   ]
  },
  {
   "cell_type": "code",
   "execution_count": 3,
   "id": "e5eef6bb",
   "metadata": {},
   "outputs": [
    {
     "data": {
      "text/plain": [
       "20281182715321"
      ]
     },
     "execution_count": 3,
     "metadata": {},
     "output_type": "execute_result"
    }
   ],
   "source": [
    "data = load_data(data_path)\n",
    "get_total(data)"
   ]
  },
  {
   "cell_type": "markdown",
   "id": "e8d2a280",
   "metadata": {},
   "source": [
    "## Part 2\n",
    "\n",
    "The engineers seem concerned; the total calibration result you gave them is nowhere close to being within safety tolerances. Just then, you spot your mistake: some well-hidden elephants are holding a third type of operator.\n",
    "\n",
    "The concatenation operator (`||`) combines the digits from its left and right inputs into a single number. For example, `12 || 345` would become `12345`. All operators are still evaluated left-to-right.\n",
    "\n",
    "Now, apart from the three equations that could be made true using only addition and multiplication, the above example has three more equations that can be made true by inserting operators:\n",
    "\n",
    "- `156: 15 6` can be made true through a single concatenation: 15 || 6 = 156.\n",
    "- `7290: 6 8 6 15` can be made true using 6 * 8 || 6 * 15.\n",
    "- `192: 17 8 14` can be made true using 17 || 8 + 14.\n",
    "\n",
    "Adding up all six test values (the three that could be made before using only `+` and `*` plus the new three that can now be made by also using `||`) produces the new total calibration result of `11387`.\n",
    "\n",
    "Using your new knowledge of elephant hiding spots, determine which equations could possibly be true. What is their total calibration result?"
   ]
  },
  {
   "cell_type": "code",
   "execution_count": 4,
   "id": "ca96c5ce",
   "metadata": {},
   "outputs": [
    {
     "data": {
      "text/plain": [
       "11387"
      ]
     },
     "execution_count": 4,
     "metadata": {},
     "output_type": "execute_result"
    }
   ],
   "source": [
    "def concat(left: int, right: int) -> int:\n",
    "    \"\"\"Returns the result of concatenating two integers as strings.\"\"\"\n",
    "    return int(str(left) + str(right))\n",
    "\n",
    "\n",
    "def test_concat(vals, target, curval=None, ops=None):\n",
    "    \"\"\"Returns True if the operator/values combination makes the target.\n",
    "    \n",
    "    Depth-first search exploring all combinations of operators\n",
    "    until the target value is reached; returns False if the \n",
    "    target is not reached.\n",
    "    \n",
    "    Adds the concatenation operator, with respect to the original solution\n",
    "    \"\"\"    \n",
    "    # Top level\n",
    "    if curval is None:\n",
    "        curval = vals.pop(0)\n",
    "        ops = []\n",
    "        \n",
    "    # End of all elements\n",
    "    if len(vals) == 0:\n",
    "        return False, ops\n",
    "    \n",
    "    # Get value to work with\n",
    "    val = vals.pop(0)\n",
    "    \n",
    "    # Does addition hit the target?\n",
    "    ops.append(\"+\")\n",
    "    if add(curval, val) == target and len(vals) == 0:\n",
    "        return True, ops  # We have a solution\n",
    "    \n",
    "    # Addition didn't work, descend the tree\n",
    "    retval, retops = test_concat(vals[:], target, add(curval, val), ops[:])\n",
    "    if retval:  # Descent found a solution, return it\n",
    "        return retval, retops\n",
    "    ops.pop()  # Discard addition\n",
    "    \n",
    "    # Descending the tree didn't work, try multiplication\n",
    "    ops.append(\"*\")\n",
    "    if mul(curval, val) == target and len(vals) == 0:\n",
    "        return True, ops  # We have a solution\n",
    "\n",
    "    # Multiplication didn't work, descend the tree\n",
    "    retval, retops = test_concat(vals[:], target, mul(curval, val), ops[:])\n",
    "    if retval:  # Descent found a solution, return it\n",
    "        return retval, retops\n",
    "    ops.pop()  # Discard multiplication\n",
    "\n",
    "    # Descending the tree didn't work, try concatenation\n",
    "    ops.append(\"||\")\n",
    "    if concat(curval, val) == target and len(vals) == 0:\n",
    "        return True, ops  # We have a solution\n",
    "    \n",
    "    # Concatenation didn't work, descend the tree\n",
    "    retval, retops = test_concat(vals[:], target, concat(curval, val), ops[:])\n",
    "    if retval:  # Descent found a solution, return it\n",
    "        return retval, retops\n",
    "    ops.pop()  # Discard multiplication\n",
    "    return retval, ops\n",
    "\n",
    "\n",
    "def test_data_concat(data: list[tuple[int, list[int]]]) -> list[tuple[tuple[bool, list[str]], int]]:\n",
    "    \"\"\"Returns list of test results and corresponding targets\"\"\"\n",
    "    results = []\n",
    "\n",
    "    for vals, target in data:\n",
    "        results.append((test_concat(vals[:], target), target))\n",
    "        \n",
    "    return results\n",
    "        \n",
    "\n",
    "def get_total_concat(data: list[tuple[int, list[int]]]) -> int:\n",
    "    \"\"\"Returns sum of targets for equations passing the test\"\"\"\n",
    "    result = test_data_concat(data)\n",
    "    return sum([int(target) for (retval, target) in result if retval[0]])\n",
    "\n",
    "\n",
    "data = load_data(test_path)\n",
    "get_total_concat(data)"
   ]
  },
  {
   "cell_type": "code",
   "execution_count": 5,
   "id": "fc04de78",
   "metadata": {},
   "outputs": [
    {
     "data": {
      "text/plain": [
       "159490400628354"
      ]
     },
     "execution_count": 5,
     "metadata": {},
     "output_type": "execute_result"
    }
   ],
   "source": [
    "data = load_data(data_path)\n",
    "get_total_concat(data)"
   ]
  },
  {
   "cell_type": "code",
   "execution_count": null,
   "id": "415f3704",
   "metadata": {},
   "outputs": [],
   "source": []
  }
 ],
 "metadata": {
  "kernelspec": {
   "display_name": "Python 3 (ipykernel)",
   "language": "python",
   "name": "python3"
  },
  "language_info": {
   "codemirror_mode": {
    "name": "ipython",
    "version": 3
   },
   "file_extension": ".py",
   "mimetype": "text/x-python",
   "name": "python",
   "nbconvert_exporter": "python",
   "pygments_lexer": "ipython3",
   "version": "3.12.7"
  }
 },
 "nbformat": 4,
 "nbformat_minor": 5
}
