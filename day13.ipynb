{
 "cells": [
  {
   "cell_type": "markdown",
   "id": "970dae59",
   "metadata": {},
   "source": [
    "# Day 13"
   ]
  },
  {
   "cell_type": "markdown",
   "id": "1efded81",
   "metadata": {},
   "source": [
    "## Part 1\n",
    "\n",
    "Next up: the lobby of a resort on a tropical island. The Historians take a moment to admire the hexagonal floor tiles before spreading out.\n",
    "\n",
    "Fortunately, it looks like the resort has a new arcade! Maybe you can win some prizes from the claw machines?\n",
    "\n",
    "The claw machines here are a little unusual. Instead of a joystick or directional buttons to control the claw, these machines have two buttons labeled A and B. Worse, you can't just put in a token and play; it costs 3 tokens to push the A button and 1 token to push the B button.\n",
    "\n",
    "With a little experimentation, you figure out that each machine's buttons are configured to move the claw a specific amount to the right (along the X axis) and a specific amount forward (along the Y axis) each time that button is pressed.\n",
    "\n",
    "Each machine contains one prize; to win the prize, the claw must be positioned exactly above the prize on both the X and Y axes.\n",
    "\n",
    "You wonder: what is the smallest number of tokens you would have to spend to win as many prizes as possible? You assemble a list of every machine's button behavior and prize location (your puzzle input). For example:\n",
    "\n",
    "Button A: X+94, Y+34\n",
    "Button B: X+22, Y+67\n",
    "Prize: X=8400, Y=5400\n",
    "\n",
    "Button A: X+26, Y+66\n",
    "Button B: X+67, Y+21\n",
    "Prize: X=12748, Y=12176\n",
    "\n",
    "Button A: X+17, Y+86\n",
    "Button B: X+84, Y+37\n",
    "Prize: X=7870, Y=6450\n",
    "\n",
    "Button A: X+69, Y+23\n",
    "Button B: X+27, Y+71\n",
    "Prize: X=18641, Y=10279\n",
    "\n",
    "This list describes the button configuration and prize location of four different claw machines.\n",
    "\n",
    "For now, consider just the first claw machine in the list:\n",
    "\n",
    "- Pushing the machine's A button would move the claw 94 units along the X axis and 34 units along the Y axis.\n",
    "- Pushing the B button would move the claw 22 units along the X axis and 67 units along the Y axis.\n",
    "- The prize is located at X=8400, Y=5400; this means that from the claw's initial position, it would need to move exactly 8400 units along the X axis and exactly 5400 units along the Y axis to be perfectly aligned with the prize in this machine.\n",
    "\n",
    "The cheapest way to win the prize is by pushing the A button 80 times and the B button 40 times. This would line up the claw along the X axis (because 80*94 + 40*22 = 8400) and along the Y axis (because 80*34 + 40*67 = 5400). Doing this would cost 80*3 tokens for the A presses and 40*1 for the B presses, a total of 280 tokens.\n",
    "\n",
    "For the second and fourth claw machines, there is no combination of A and B presses that will ever win a prize.\n",
    "\n",
    "For the third claw machine, the cheapest way to win the prize is by pushing the A button 38 times and the B button 86 times. Doing this would cost a total of 200 tokens.\n",
    "\n",
    "So, the most prizes you could possibly win is two; the minimum tokens you would have to spend to win all (two) prizes is `480`.\n",
    "\n",
    "You estimate that each button would need to be pressed no more than 100 times to win a prize. How else would someone be expected to play?\n",
    "\n",
    "Figure out how to win as many prizes as possible. What is the fewest tokens you would have to spend to win all possible prizes?"
   ]
  },
  {
   "cell_type": "code",
   "execution_count": 1,
   "id": "346455ab",
   "metadata": {},
   "outputs": [],
   "source": [
    "from pathlib import Path\n",
    "\n",
    "import numpy as np"
   ]
  },
  {
   "cell_type": "code",
   "execution_count": 2,
   "id": "aec9993d",
   "metadata": {},
   "outputs": [
    {
     "data": {
      "text/plain": [
       "480"
      ]
     },
     "execution_count": 2,
     "metadata": {},
     "output_type": "execute_result"
    }
   ],
   "source": [
    "test_path = Path(\"data/day13_test.txt\")\n",
    "data_path = Path(\"data/day13_data.txt\")\n",
    "\n",
    "\n",
    "def load_data(fpath: Path, offset: int=0) -> dict[dict]:\n",
    "    \"\"\"Returns dict of dicts describing each arcade machine\"\"\"\n",
    "    machines = {}  # One key per machine\n",
    "    \n",
    "    with fpath.open() as ifh:\n",
    "        machine_id = 0\n",
    "        machines[machine_id] = {\"xvals\": {}, \"yvals\": {}}  # One dict each for x- and y-shifts/prizes\n",
    "        for line in [_.strip().split() for _ in ifh.readlines()]:\n",
    "            if len(line) == 0:  # start new machine with a newline\n",
    "                machine_id += 1\n",
    "                machines[machine_id] = {\"xvals\": {}, \"yvals\": {}}\n",
    "            elif line[0] == \"Button\":\n",
    "                machines[machine_id][\"xvals\"][line[1][0]] = int(line[2].split(\"+\")[1][:-1])\n",
    "                machines[machine_id][\"yvals\"][line[1][0]] = int(line[3].split(\"+\")[1])\n",
    "            elif line[0] == \"Prize:\":\n",
    "                machines[machine_id][\"xvals\"][\"prize\"] = int(line[1].split(\"=\")[1][:-1]) + offset\n",
    "                machines[machine_id][\"yvals\"][\"prize\"] = int(line[2].split(\"=\")[1]) + offset\n",
    "            \n",
    "    return machines\n",
    "            \n",
    "\n",
    "def solve_machines(machines: dict[dict]) -> list[tuple[int, np.array]]:\n",
    "    \"\"\"Returns list of tuples containing machine numbers and A/B solutions.\n",
    "    \n",
    "    The puzzle today is a linear algebra problem - a system of simultaneous\n",
    "    equations. We _could_ code the algorithm from scratch/refer to Numerical\n",
    "    Methods, but numpy exists.\n",
    "    \"\"\"\n",
    "    solutions = []\n",
    "    \n",
    "    for machine_id, params in machines.items():\n",
    "        xarr = [params[\"xvals\"][\"A\"], params[\"xvals\"][\"B\"]]\n",
    "        yarr = [params[\"yvals\"][\"A\"], params[\"yvals\"][\"B\"]]\n",
    "        X = np.array([xarr, yarr])\n",
    "        Y = np.array([params[\"xvals\"][\"prize\"], params[\"yvals\"][\"prize\"]]).T\n",
    "        solutions.append((machine_id, np.linalg.solve(X, Y)))\n",
    "        \n",
    "    return solutions\n",
    "\n",
    "    \n",
    "def cost_solutions(solutions: list[tuple[int, np.array]], tokens: dict, machines: dict[dict]) -> list[int]:\n",
    "    \"\"\"Returns the cost of winning all prizes on the machines\"\"\"\n",
    "    results = []\n",
    "\n",
    "    for solution, machine in zip(solutions, machines):\n",
    "        params = machines[machine]\n",
    "        # Solution as integer. Note we use round(). Can't tell you how long I sat\n",
    "        # with the bug of using int() here.\n",
    "        solA, solB = round(solution[1][0]), round(solution[1][1])\n",
    "        resX = solA * params[\"xvals\"][\"A\"] + solB * params[\"xvals\"][\"B\"]\n",
    "        resY = solA * params[\"yvals\"][\"A\"] + solB * params[\"yvals\"][\"B\"] \n",
    "        \n",
    "        # Some solutions are not integers, and the float representation is\n",
    "        # inexact, so we double-check and populate the list of costs\n",
    "        if resX == params[\"xvals\"][\"prize\"] and resY == params[\"yvals\"][\"prize\"]:  # Solution is good\n",
    "            results.append(tokens[\"A\"] * solA +  tokens[\"B\"] * solB)\n",
    "        else:\n",
    "            results.append(0)\n",
    "        \n",
    "    return results\n",
    "\n",
    "\n",
    "tokens = {\"A\": 3, \"B\": 1}\n",
    "machines = load_data(test_path)\n",
    "solutions = solve_machines(machines)\n",
    "sum(cost_solutions(solutions, tokens, machines))"
   ]
  },
  {
   "cell_type": "code",
   "execution_count": 3,
   "id": "d206da49",
   "metadata": {},
   "outputs": [
    {
     "data": {
      "text/plain": [
       "30413"
      ]
     },
     "execution_count": 3,
     "metadata": {},
     "output_type": "execute_result"
    }
   ],
   "source": [
    "machines = load_data(data_path)\n",
    "solutions = solve_machines(machines)\n",
    "sum(cost_solutions(solutions, tokens, machines))"
   ]
  },
  {
   "cell_type": "markdown",
   "id": "76f6f778",
   "metadata": {},
   "source": [
    "## Part 2\n",
    "\n",
    "As you go to win the first prize, you discover that the claw is nowhere near where you expected it would be. Due to a unit conversion error in your measurements, the position of every prize is actually 10000000000000 higher on both the X and Y axis!\n",
    "\n",
    "Add 10000000000000 to the X and Y position of every prize. After making this change, the example above would now look like this:\n",
    "\n",
    "```\n",
    "Button A: X+94, Y+34\n",
    "Button B: X+22, Y+67\n",
    "Prize: X=10000000008400, Y=10000000005400\n",
    "\n",
    "Button A: X+26, Y+66\n",
    "Button B: X+67, Y+21\n",
    "Prize: X=10000000012748, Y=10000000012176\n",
    "\n",
    "Button A: X+17, Y+86\n",
    "Button B: X+84, Y+37\n",
    "Prize: X=10000000007870, Y=10000000006450\n",
    "\n",
    "Button A: X+69, Y+23\n",
    "Button B: X+27, Y+71\n",
    "Prize: X=10000000018641, Y=10000000010279\n",
    "```\n",
    "\n",
    "Now, it is only possible to win a prize on the second and fourth claw machines. Unfortunately, it will take many more than 100 presses to do so.\n",
    "\n",
    "Using the corrected prize coordinates, figure out how to win as many prizes as possible. What is the fewest tokens you would have to spend to win all possible prizes?"
   ]
  },
  {
   "cell_type": "code",
   "execution_count": 4,
   "id": "f62545cc",
   "metadata": {},
   "outputs": [
    {
     "data": {
      "text/plain": [
       "875318608908"
      ]
     },
     "execution_count": 4,
     "metadata": {},
     "output_type": "execute_result"
    }
   ],
   "source": [
    "machines = load_data(test_path, offset=1e13)\n",
    "solutions = solve_machines(machines)\n",
    "sum(cost_solutions(solutions, tokens, machines))"
   ]
  },
  {
   "cell_type": "code",
   "execution_count": 5,
   "id": "19d65115",
   "metadata": {},
   "outputs": [
    {
     "data": {
      "text/plain": [
       "92827349540204"
      ]
     },
     "execution_count": 5,
     "metadata": {},
     "output_type": "execute_result"
    }
   ],
   "source": [
    "machines = load_data(data_path, offset=1e13)\n",
    "solutions = solve_machines(machines)\n",
    "sum(cost_solutions(solutions, tokens, machines))"
   ]
  },
  {
   "cell_type": "code",
   "execution_count": null,
   "id": "0a27cab3",
   "metadata": {},
   "outputs": [],
   "source": []
  }
 ],
 "metadata": {
  "kernelspec": {
   "display_name": "Python 3 (ipykernel)",
   "language": "python",
   "name": "python3"
  },
  "language_info": {
   "codemirror_mode": {
    "name": "ipython",
    "version": 3
   },
   "file_extension": ".py",
   "mimetype": "text/x-python",
   "name": "python",
   "nbconvert_exporter": "python",
   "pygments_lexer": "ipython3",
   "version": "3.12.7"
  }
 },
 "nbformat": 4,
 "nbformat_minor": 5
}
