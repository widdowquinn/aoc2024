{
 "cells": [
  {
   "cell_type": "markdown",
   "id": "c9f567f8",
   "metadata": {},
   "source": [
    "# Day 11"
   ]
  },
  {
   "cell_type": "markdown",
   "id": "f2ac6040",
   "metadata": {},
   "source": [
    "## Part 1\n",
    "\n",
    "The ancient civilization on Pluto was known for its ability to manipulate spacetime, and while The Historians explore their infinite corridors, you've noticed a strange set of physics-defying stones.\n",
    "\n",
    "At first glance, they seem like normal stones: they're arranged in a perfectly straight line, and each stone has a number engraved on it.\n",
    "\n",
    "The strange part is that every time you blink, the stones change.\n",
    "\n",
    "Sometimes, the number engraved on a stone changes. Other times, a stone might split in two, causing all the other stones to shift over a bit to make room in their perfectly straight line.\n",
    "\n",
    "As you observe them for a while, you find that the stones have a consistent behavior. Every time you blink, the stones each simultaneously change according to the first applicable rule in this list:\n",
    "\n",
    "- If the stone is engraved with the number `0`, it is replaced by a stone engraved with the number `1`.\n",
    "- If the stone is engraved with a number that has an even number of digits, it is replaced by two stones. The left half of the digits are engraved on the new left stone, and the right half of the digits are engraved on the new right stone. (The new numbers don't keep extra leading zeroes: `1000` would become stones `10` and `0`.)\n",
    "- If none of the other rules apply, the stone is replaced by a new stone; the old stone's number multiplied by `2024` is engraved on the new stone.\n",
    "\n",
    "No matter how the stones change, their order is preserved, and they stay on their perfectly straight line.\n",
    "\n",
    "How will the stones evolve if you keep blinking at them? You take a note of the number engraved on each stone in the line (your puzzle input).\n",
    "\n",
    "If you have an arrangement of five stones engraved with the numbers `0 1 10 99 999` and you blink once, the stones transform as follows:\n",
    "\n",
    "- The first stone, `0`, becomes a stone marked `1`.\n",
    "- The second stone, `1`, is multiplied by `2024` to become `2024`.\n",
    "- The third stone, `10`, is split into a stone marked `1` followed by a stone marked `0`.\n",
    "- The fourth stone, `99`, is split into two stones marked `9`.\n",
    "- The fifth stone, `999`, is replaced by a stone marked `2021976`.\n",
    "\n",
    "So, after blinking once, your five stones would become an arrangement of seven stones engraved with the numbers 1 `2024 1 0 9 9 2021976`.\n",
    "\n",
    "Here is a longer example:\n",
    "\n",
    "Initial arrangement:\n",
    "`125 17`\n",
    "\n",
    "After 1 blink:\n",
    "`253000 1 7`\n",
    "\n",
    "After 2 blinks:\n",
    "`253 0 2024 14168`\n",
    "\n",
    "After 3 blinks:\n",
    "`512072 1 20 24 28676032`\n",
    "\n",
    "After 4 blinks:\n",
    "`512 72 2024 2 0 2 4 2867 6032`\n",
    "\n",
    "After 5 blinks:\n",
    "`1036288 7 2 20 24 4048 1 4048 8096 28 67 60 32`\n",
    "\n",
    "After 6 blinks:\n",
    "`2097446912 14168 4048 2 0 2 4 40 48 2024 40 48 80 96 2 8 6 7 6 0 3 2`\n",
    "\n",
    "In this example, after blinking six times, you would have 22 stones. After blinking 25 times, you would have `55312` stones!\n",
    "\n",
    "Consider the arrangement of stones in front of you. How many stones will you have after blinking 25 times?"
   ]
  },
  {
   "cell_type": "code",
   "execution_count": 1,
   "id": "15483b0c",
   "metadata": {},
   "outputs": [],
   "source": [
    "from collections import defaultdict\n",
    "from pathlib import Path"
   ]
  },
  {
   "cell_type": "code",
   "execution_count": 2,
   "id": "6bdc3820",
   "metadata": {},
   "outputs": [
    {
     "name": "stdout",
     "output_type": "stream",
     "text": [
      "22\n",
      "55312\n"
     ]
    }
   ],
   "source": [
    "test_path = Path(\"data/day11_test.txt\")\n",
    "data_path = Path(\"data/day11_data.txt\")\n",
    "\n",
    "def load_data(fpath: Path) -> list[str]:\n",
    "    \"\"\"Returns data as list of strings.\"\"\"\n",
    "    return fpath.open().read().strip().split()\n",
    "\n",
    "\n",
    "# I thought I was being clever/preparing for scaling by caching\n",
    "# those values. Reader, I was not.\n",
    "def blink(stones: list[str], cache: dict[str:str]={\"0\": [\"1\"]}) -> tuple[list[str], dict[str: list[str]]]:\n",
    "    \"\"\"Carries out a single blink on a row of stones.\"\"\"\n",
    "    newstones = []  # Holds new stones after blink\n",
    "        \n",
    "    for stone in stones:  # Calculate the post-blink stone\n",
    "        if stone in cache:  # Use cached next value\n",
    "            newstone = cache[stone]\n",
    "        else:\n",
    "            if len(stone) % 2 == 0:\n",
    "                newstone = [str(int(_)) for _ in [stone[:len(stone)//2],\n",
    "                                                  stone[len(stone)//2:]]]\n",
    "            else:\n",
    "                newstone = [str(int(stone) * 2024)]\n",
    "            cache[stone] = newstone\n",
    "        newstones += newstone\n",
    "\n",
    "    # Return the stones after the blink, with the cache of next values\n",
    "    return newstones[:], cache\n",
    "\n",
    "\n",
    "def multiblink(stones: list[str], n: int, cache: dict[str, str]={\"0\": [\"1\"]}):\n",
    "    \"\"\"Returns the row of stones after a number of blinks.\"\"\"\n",
    "    for idx in range(n):\n",
    "        stones, cache = blink(stones, cache)\n",
    "        \n",
    "    return stones[:]\n",
    "\n",
    "\n",
    "test_stones = [\"125\", \"17\"]\n",
    "for blinks in (6, 25):\n",
    "    print(len(multiblink(test_stones, blinks)))"
   ]
  },
  {
   "cell_type": "code",
   "execution_count": 3,
   "id": "1f2b1193",
   "metadata": {},
   "outputs": [
    {
     "data": {
      "text/plain": [
       "202019"
      ]
     },
     "execution_count": 3,
     "metadata": {},
     "output_type": "execute_result"
    }
   ],
   "source": [
    "stones = load_data(data_path)\n",
    "len(multiblink(stones, 25))"
   ]
  },
  {
   "cell_type": "markdown",
   "id": "7eaad4e6",
   "metadata": {},
   "source": [
    "## Part 2\n",
    "\n",
    "The Historians sure are taking a long time. To be fair, the infinite corridors are very large.\n",
    "\n",
    "How many stones would you have after blinking a total of `75` times?"
   ]
  },
  {
   "cell_type": "code",
   "execution_count": 4,
   "id": "471b1ddd",
   "metadata": {},
   "outputs": [
    {
     "data": {
      "text/plain": [
       "22"
      ]
     },
     "execution_count": 4,
     "metadata": {},
     "output_type": "execute_result"
    }
   ],
   "source": [
    "# Reader, I can't tell you how long it took me to get this\n",
    "def stoneblinks(stones: list[str], blinks: int) -> int:\n",
    "    \"\"\"Returns the number of stones after the passed amount of blinks.\"\"\"\n",
    "    # Store the stones as a dictionary of the counts of each individual\n",
    "    # stone number in the row\n",
    "    stonedict = defaultdict(int)\n",
    "    for stone in stones:\n",
    "        stonedict[stone] += 1\n",
    "    \n",
    "    # We'll now update the counts of the stones with each individual number\n",
    "    # rather than maintaining a list or recursing down the scads of updates.\n",
    "    for depth in range(blinks):\n",
    "        newstones = defaultdict(int)  # The stones in the next row\n",
    "        \n",
    "        for stone in stonedict:  # Update the next row counts for each current stone\n",
    "            if stone == \"0\":\n",
    "                newstones[\"1\"] += stonedict[stone]\n",
    "            elif len(stone) % 2 == 0:\n",
    "                newstones[str(int(stone[:len(stone)//2]))] += stonedict[stone]\n",
    "                newstones[str(int(stone[len(stone)//2:]))] += stonedict[stone]\n",
    "            else:\n",
    "                newstones[str(int(stone) * 2024)] += stonedict[stone]\n",
    "                \n",
    "        stonedict = newstones  # The current row is now the new row\n",
    "\n",
    "    # Return the sum of counts\n",
    "    return sum([v for k, v in stonedict.items()])\n",
    "    \n",
    "\n",
    "stoneblinks([\"125\", \"17\"], 6)"
   ]
  },
  {
   "cell_type": "code",
   "execution_count": 5,
   "id": "e73cb315",
   "metadata": {},
   "outputs": [
    {
     "data": {
      "text/plain": [
       "239321955280205"
      ]
     },
     "execution_count": 5,
     "metadata": {},
     "output_type": "execute_result"
    }
   ],
   "source": [
    "stones = load_data(data_path)\n",
    "stoneblinks(stones, 75)"
   ]
  },
  {
   "cell_type": "code",
   "execution_count": 6,
   "id": "6c7915c3",
   "metadata": {},
   "outputs": [
    {
     "data": {
      "text/plain": [
       "199688130874879995976480385985465480162435394838608885370106893560577018809139541521150451152444195844528088636252343002899975513626083913705676867470677465799061285107192821167725418"
      ]
     },
     "execution_count": 6,
     "metadata": {},
     "output_type": "execute_result"
    }
   ],
   "source": [
    "stones = load_data(data_path)\n",
    "stoneblinks(stones, 1000)"
   ]
  },
  {
   "cell_type": "code",
   "execution_count": null,
   "id": "13f9deb5",
   "metadata": {},
   "outputs": [],
   "source": []
  },
  {
   "cell_type": "code",
   "execution_count": null,
   "id": "c25cad1b",
   "metadata": {},
   "outputs": [],
   "source": []
  }
 ],
 "metadata": {
  "kernelspec": {
   "display_name": "Python 3 (ipykernel)",
   "language": "python",
   "name": "python3"
  },
  "language_info": {
   "codemirror_mode": {
    "name": "ipython",
    "version": 3
   },
   "file_extension": ".py",
   "mimetype": "text/x-python",
   "name": "python",
   "nbconvert_exporter": "python",
   "pygments_lexer": "ipython3",
   "version": "3.12.7"
  }
 },
 "nbformat": 4,
 "nbformat_minor": 5
}
