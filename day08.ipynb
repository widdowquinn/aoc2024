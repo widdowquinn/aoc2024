{
 "cells": [
  {
   "cell_type": "markdown",
   "id": "6d16ddfe",
   "metadata": {},
   "source": [
    "# Day 8"
   ]
  },
  {
   "cell_type": "markdown",
   "id": "f97acfbe",
   "metadata": {},
   "source": [
    "## Part 1\n",
    "\n",
    "You find yourselves on the roof of a top-secret Easter Bunny installation.\n",
    "\n",
    "While The Historians do their thing, you take a look at the familiar huge antenna. Much to your surprise, it seems to have been reconfigured to emit a signal that makes people 0.1% more likely to buy Easter Bunny brand Imitation Mediocre Chocolate as a Christmas gift! Unthinkable!\n",
    "\n",
    "Scanning across the city, you find that there are actually many such antennas. Each antenna is tuned to a specific frequency indicated by a single lowercase letter, uppercase letter, or digit. You create a map (your puzzle input) of these antennas. For example:\n",
    "\n",
    "```\n",
    "............\n",
    "........0...\n",
    ".....0......\n",
    ".......0....\n",
    "....0.......\n",
    "......A.....\n",
    "............\n",
    "............\n",
    "........A...\n",
    ".........A..\n",
    "............\n",
    "............\n",
    "```\n",
    "\n",
    "The signal only applies its nefarious effect at specific antinodes based on the resonant frequencies of the antennas. In particular, an antinode occurs at any point that is perfectly in line with two antennas of the same frequency - but only when one of the antennas is twice as far away as the other. This means that for any pair of antennas with the same frequency, there are two antinodes, one on either side of them.\n",
    "\n",
    "So, for these two antennas with frequency `a`, they create the two antinodes marked with `#`:\n",
    "\n",
    "```\n",
    "..........\n",
    "...#......\n",
    "..........\n",
    "....a.....\n",
    "..........\n",
    ".....a....\n",
    "..........\n",
    "......#...\n",
    "..........\n",
    "..........\n",
    "```\n",
    "\n",
    "Adding a third antenna with the same frequency creates several more antinodes. It would ideally add four antinodes, but two are off the right side of the map, so instead it adds only two:\n",
    "\n",
    "```\n",
    "..........\n",
    "...#......\n",
    "#.........\n",
    "....a.....\n",
    "........a.\n",
    ".....a....\n",
    "..#.......\n",
    "......#...\n",
    "..........\n",
    "..........\n",
    "```\n",
    "\n",
    "Antennas with different frequencies don't create antinodes; `A` and `a` count as different frequencies. However, antinodes can occur at locations that contain antennas. In this diagram, the lone antenna with frequency capital `A` creates no antinodes but has a lowercase-`a`-frequency antinode at its location:\n",
    "\n",
    "```\n",
    "..........\n",
    "...#......\n",
    "#.........\n",
    "....a.....\n",
    "........a.\n",
    ".....a....\n",
    "..#.......\n",
    "......A...\n",
    "..........\n",
    "..........\n",
    "```\n",
    "\n",
    "The first example has antennas with two different frequencies, so the antinodes they create look like this, plus an antinode overlapping the topmost `A`-frequency antenna:\n",
    "\n",
    "```\n",
    "......#....#\n",
    "...#....0...\n",
    "....#0....#.\n",
    "..#....0....\n",
    "....0....#..\n",
    ".#....A.....\n",
    "...#........\n",
    "#......#....\n",
    "........A...\n",
    ".........A..\n",
    "..........#.\n",
    "..........#.\n",
    "```\n",
    "\n",
    "Because the topmost `A`-frequency antenna overlaps with a `0`-frequency antinode, there are `14` total unique locations that contain an antinode within the bounds of the map.\n",
    "\n",
    "Calculate the impact of the signal. How many unique locations within the bounds of the map contain an antinode?"
   ]
  },
  {
   "cell_type": "code",
   "execution_count": 1,
   "id": "c8274ea6",
   "metadata": {},
   "outputs": [],
   "source": [
    "from collections import defaultdict\n",
    "from itertools import combinations\n",
    "from pathlib import Path\n",
    "\n",
    "import numpy as np"
   ]
  },
  {
   "cell_type": "code",
   "execution_count": 2,
   "id": "d34f9eda",
   "metadata": {},
   "outputs": [
    {
     "data": {
      "text/plain": [
       "14"
      ]
     },
     "execution_count": 2,
     "metadata": {},
     "output_type": "execute_result"
    }
   ],
   "source": [
    "test_path = Path(\"data/day08_test.txt\")\n",
    "data_path = Path(\"data/day08_data.txt\")\n",
    "\n",
    "\n",
    "def load_data(fpath: Path) -> tuple[np.array, np.array]:\n",
    "    \"\"\"Return maps of antennae and antinodes.\n",
    "    \n",
    "    The antinode map is initially empty\n",
    "    \"\"\"\n",
    "    antmap = []\n",
    "    \n",
    "    with fpath.open() as ifh:\n",
    "        for line in ifh.readlines():\n",
    "            antmap.append(list(line.strip()))\n",
    "    antmap = np.array(antmap)\n",
    "    \n",
    "    return antmap, np.full(antmap.shape, \".\", dtype=str)\n",
    "\n",
    "\n",
    "def locate_antennae(antmap: np.array) -> dict[tuple[int,int]]:\n",
    "    \"\"\"Returns dictionary of antenna locations.\n",
    "    \n",
    "    Dictionary is keyed by antenna ID, with a list of co-ordinates for\n",
    "    antennae with that ID.\n",
    "    \"\"\"\n",
    "    antennae = defaultdict(list)\n",
    "    nrows, ncols = antmap.shape\n",
    "    \n",
    "    for row in range(nrows):\n",
    "        for col in range(ncols):\n",
    "            if antmap[row][col] != \".\":\n",
    "                antennae[antmap[row][col]].append((row, col))\n",
    "                \n",
    "    return antennae\n",
    "\n",
    "\n",
    "def find_antinodes(antennae: dict[tuple[int,int]], nodemap: np.array) -> np.array:\n",
    "    \"\"\"Populates an antinode map with antinodes.\n",
    "    \n",
    "    The map is an array, with \"#\" where antinodes occur.\n",
    "    \"\"\"\n",
    "    antinodes = set()  # Only keep unique antinodes\n",
    "    \n",
    "    for key, vals in antennae.items():\n",
    "        antpairs = combinations(vals, 2)\n",
    "        for ant1, ant2 in antpairs:\n",
    "            ydist = ant1[0] - ant2[0]\n",
    "            xdist = ant1[1] - ant2[1]\n",
    "            antinodes = antinodes.union(set(((ant1[0] + ydist, ant1[1] + xdist),\n",
    "                                             (ant2[0] - ydist, ant2[1] - xdist))))\n",
    "    \n",
    "    nrows, ncols = nodemap.shape\n",
    "    # Add antinodes to map, filtering out off-map locations\n",
    "    for row, col in antinodes:\n",
    "        if 0 <= row < nrows and 0 <= col < ncols:\n",
    "            nodemap[row][col] = \"#\"\n",
    "            \n",
    "    return nodemap\n",
    "        \n",
    "def count_antinodes(antmap: np.array) -> int:\n",
    "    \"\"\"Returns count of antinodes in a map.\"\"\"\n",
    "    return np.count_nonzero(antmap == \"#\")\n",
    "    \n",
    "    \n",
    "antmap, antinodes = load_data(test_path)\n",
    "antennae = locate_antennae(antmap)\n",
    "antinodes = find_antinodes(antennae, antinodes)\n",
    "count_antinodes(antinodes)"
   ]
  },
  {
   "cell_type": "code",
   "execution_count": 3,
   "id": "5393d296",
   "metadata": {},
   "outputs": [
    {
     "data": {
      "text/plain": [
       "379"
      ]
     },
     "execution_count": 3,
     "metadata": {},
     "output_type": "execute_result"
    }
   ],
   "source": [
    "antmap, antinodes = load_data(data_path)\n",
    "antennae = locate_antennae(antmap)\n",
    "antinodes = find_antinodes(antennae, antinodes)\n",
    "count_antinodes(antinodes)"
   ]
  },
  {
   "cell_type": "markdown",
   "id": "dce3467f",
   "metadata": {},
   "source": [
    "## Part 2\n",
    "\n",
    "Watching over your shoulder as you work, one of The Historians asks if you took the effects of resonant harmonics into your calculations.\n",
    "\n",
    "Whoops!\n",
    "\n",
    "After updating your model, it turns out that an antinode occurs at any grid position exactly in line with at least two antennas of the same frequency, regardless of distance. This means that some of the new antinodes will occur at the position of each antenna (unless that antenna is the only one of its frequency).\n",
    "\n",
    "So, these three `T`-frequency antennas now create many antinodes:\n",
    "\n",
    "```\n",
    "T....#....\n",
    "...T......\n",
    ".T....#...\n",
    ".........#\n",
    "..#.......\n",
    "..........\n",
    "...#......\n",
    "..........\n",
    "....#.....\n",
    "..........\n",
    "```\n",
    "\n",
    "In fact, the three `T`-frequency antennas are all exactly in line with two antennas, so they are all also antinodes! This brings the total number of antinodes in the above example to `9`.\n",
    "\n",
    "The original example now has `34` antinodes, including the antinodes that appear on every antenna:\n",
    "\n",
    "```\n",
    "##....#....#\n",
    ".#.#....0...\n",
    "..#.#0....#.\n",
    "..##...0....\n",
    "....0....#..\n",
    ".#...#A....#\n",
    "...#..#.....\n",
    "#....#.#....\n",
    "..#.....A...\n",
    "....#....A..\n",
    ".#........#.\n",
    "...#......##\n",
    "```\n",
    "\n",
    "Calculate the impact of the signal using this updated model. How many unique locations within the bounds of the map contain an antinode?"
   ]
  },
  {
   "cell_type": "code",
   "execution_count": 4,
   "id": "9d427121",
   "metadata": {},
   "outputs": [
    {
     "data": {
      "text/plain": [
       "34"
      ]
     },
     "execution_count": 4,
     "metadata": {},
     "output_type": "execute_result"
    }
   ],
   "source": [
    "def find_resonances(antennae: dict[tuple[int,int]], nodemap: np.array) -> np.array:\n",
    "    \"\"\"Populates an antinode map with resonant antinodes.\n",
    "    \n",
    "    The map is an array, with \"#\" where antinodes occur.\n",
    "    \"\"\"\n",
    "    antinodes = set()\n",
    "    nrows, ncols = nodemap.shape\n",
    "    \n",
    "    for key, vals in antennae.items():\n",
    "        antpairs = combinations(vals, 2)\n",
    "        for ant1, ant2 in antpairs:\n",
    "            ydist = ant1[0] - ant2[0]\n",
    "            xdist = ant1[1] - ant2[1]\n",
    "            \n",
    "            # Find resonances from each antenna in turn, until we go off-map.\n",
    "            # Resonances occur at whole-number multiples of the distance\n",
    "            # between antennae.\n",
    "            idx = 0  # This includes the antenna location itself\n",
    "            while 0 <= ant1[0] + idx * ydist < nrows and 0 <= ant1[1] + idx * xdist < ncols:\n",
    "                antinodes.add((ant1[0] + idx * ydist, ant1[1] + idx * xdist))\n",
    "                idx += 1\n",
    "            idx = 0\n",
    "            while 0 <= ant2[0] - idx * ydist < nrows and 0 <= ant2[1] - idx * xdist < ncols:\n",
    "                antinodes.add((ant2[0] - idx * ydist, ant2[1] - idx * xdist))\n",
    "                idx += 1\n",
    "\n",
    "    # Add the antinodes to the map\n",
    "    nrows, ncols = nodemap.shape\n",
    "    for row, col in antinodes:\n",
    "            nodemap[row][col] = \"#\"\n",
    "            \n",
    "    return nodemap\n",
    "        \n",
    "    \n",
    "antmap, antinodes = load_data(test_path)\n",
    "antennae = locate_antennae(antmap)\n",
    "antinodes = find_resonances(antennae, antinodes)\n",
    "count_antinodes(antinodes)"
   ]
  },
  {
   "cell_type": "code",
   "execution_count": 5,
   "id": "92bec6f1",
   "metadata": {},
   "outputs": [
    {
     "data": {
      "text/plain": [
       "1339"
      ]
     },
     "execution_count": 5,
     "metadata": {},
     "output_type": "execute_result"
    }
   ],
   "source": [
    "antmap, antinodes = load_data(data_path)\n",
    "antennae = locate_antennae(antmap)\n",
    "antinodes = find_resonances(antennae, antinodes)\n",
    "count_antinodes(antinodes)"
   ]
  },
  {
   "cell_type": "code",
   "execution_count": null,
   "id": "cdb6f64f",
   "metadata": {},
   "outputs": [],
   "source": []
  }
 ],
 "metadata": {
  "kernelspec": {
   "display_name": "Python 3 (ipykernel)",
   "language": "python",
   "name": "python3"
  },
  "language_info": {
   "codemirror_mode": {
    "name": "ipython",
    "version": 3
   },
   "file_extension": ".py",
   "mimetype": "text/x-python",
   "name": "python",
   "nbconvert_exporter": "python",
   "pygments_lexer": "ipython3",
   "version": "3.12.7"
  }
 },
 "nbformat": 4,
 "nbformat_minor": 5
}
