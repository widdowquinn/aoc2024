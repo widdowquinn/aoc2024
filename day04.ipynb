{
 "cells": [
  {
   "cell_type": "markdown",
   "id": "088e42c0",
   "metadata": {},
   "source": [
    "# Day 4"
   ]
  },
  {
   "cell_type": "markdown",
   "id": "8021333d",
   "metadata": {},
   "source": [
    "## Part 1\n",
    "\n",
    "\"Looks like the Chief's not here. Next!\" One of The Historians pulls out a device and pushes the only button on it. After a brief flash, you recognize the interior of the Ceres monitoring station!\n",
    "\n",
    "As the search for the Chief continues, a small Elf who lives on the station tugs on your shirt; she'd like to know if you could help her with her word search (your puzzle input). She only has to find one word: `XMAS`.\n",
    "\n",
    "This word search allows words to be horizontal, vertical, diagonal, written backwards, or even overlapping other words. It's a little unusual, though, as you don't merely need to find one instance of `XMAS` - you need to find all of them. Here are a few ways `XMAS` might appear, where irrelevant characters have been replaced with .:\n",
    "\n",
    "```\n",
    "..X...\n",
    ".SAMX.\n",
    ".A..A.\n",
    "XMAS.S\n",
    ".X....\n",
    "```\n",
    "\n",
    "The actual word search will be full of letters instead. For example:\n",
    "\n",
    "```\n",
    "MMMSXXMASM\n",
    "MSAMXMSMSA\n",
    "AMXSXMAAMM\n",
    "MSAMASMSMX\n",
    "XMASAMXAMM\n",
    "XXAMMXXAMA\n",
    "SMSMSASXSS\n",
    "SAXAMASAAA\n",
    "MAMMMXMMMM\n",
    "MXMXAXMASX\n",
    "```\n",
    "\n",
    "In this word search, `XMAS` occurs a total of 18 times; here's the same word search again, but where letters not involved in any `XMAS` have been replaced with .:\n",
    "\n",
    "```\n",
    "....XXMAS.\n",
    ".SAMXMS...\n",
    "...S..A...\n",
    "..A.A.MS.X\n",
    "XMASAMX.MM\n",
    "X.....XA.A\n",
    "S.S.S.S.SS\n",
    ".A.A.A.A.A\n",
    "..M.M.M.MM\n",
    ".X.X.XMASX\n",
    "```\n",
    "\n",
    "Take a look at the little Elf's word search. How many times does `XMAS` appear?"
   ]
  },
  {
   "cell_type": "code",
   "execution_count": 1,
   "id": "3b3b4b76",
   "metadata": {},
   "outputs": [],
   "source": [
    "from pathlib import Path\n",
    "\n",
    "import numpy as np"
   ]
  },
  {
   "cell_type": "code",
   "execution_count": 2,
   "id": "62d533e7",
   "metadata": {},
   "outputs": [
    {
     "data": {
      "text/plain": [
       "18"
      ]
     },
     "execution_count": 2,
     "metadata": {},
     "output_type": "execute_result"
    }
   ],
   "source": [
    "test_path = Path(\"data/day04_test.txt\")\n",
    "data_path = Path(\"data/day04_data.txt\")\n",
    "\n",
    "word = \"XMAS\"\n",
    "\n",
    "def load_data(fpath: Path) -> np.array:\n",
    "    \"\"\"Returns grid as numpy array.\"\"\"\n",
    "    data = fpath.open().readlines()\n",
    "    data = [list(_.strip()) for _ in data]\n",
    "    return np.array(data)\n",
    "\n",
    "def count_word(grid: np.array, word: str) -> list[tuple[int, int, int]]:\n",
    "    \"\"\"Returns list of counts of the word in the grid.\n",
    "    \n",
    "    Tuple has format (count, start row, start column)\n",
    "    \"\"\"\n",
    "    nrows, ncols = grid.shape\n",
    "    \n",
    "    hits = []  # holds located words\n",
    "    \n",
    "    for row in range(nrows):\n",
    "        for col in range(ncols):\n",
    "            if grid[row][col] == word[0]:  # found word start\n",
    "                locals = [word[0]] * 8\n",
    "                for idx in range(1, len(word)):\n",
    "                    # Get letters outwards in all eight directions from the start\n",
    "                    check = [grid[row-idx if row-idx >= 0 else 0][col],\n",
    "                             grid[row-idx if row-idx >= 0 else 0][col+idx if col+idx < ncols else ncols-1],\n",
    "                             grid[row][col+idx if col+idx < ncols else ncols-1],\n",
    "                             grid[row+idx if row+idx < nrows else nrows-1][col+idx if col+idx < ncols else ncols-1],\n",
    "                             grid[row+idx if row+idx < nrows else nrows-1][col], \n",
    "                             grid[row+idx if row+idx < nrows else nrows-1][col-idx if col-idx >= 0 else 0],\n",
    "                             grid[row][col-idx if col-idx >= 0 else 0], \n",
    "                             grid[row-idx if row-idx >= 0 else 0][col-idx]]\n",
    "                    # If we overran the grid, substitute the letter with a blank\n",
    "                    if row - idx < 0:\n",
    "                        check[0] = check[1] = check[7] = \"\"\n",
    "                    if row + idx >= nrows:\n",
    "                        check[3] = check[4] = check[5] = \"\"\n",
    "                    if col - idx < 0:\n",
    "                        check[5] = check[6] = check[7] = \"\"\n",
    "                    if col + idx >= ncols:\n",
    "                        check[1] = check[2] = check[3] = \"\"\n",
    "                    locals = [_[0] + _[1] for _ in zip(locals, check)]\n",
    "                if word in locals:  # Count how many times the assembled word is spelled\n",
    "                    hits.append((locals.count(word), row, col))\n",
    "                    \n",
    "    return hits\n",
    "\n",
    "\n",
    "grid = load_data(test_path)\n",
    "hits = count_word(grid, word)\n",
    "sum([_[0] for _ in hits])"
   ]
  },
  {
   "cell_type": "code",
   "execution_count": 3,
   "id": "86c354a8",
   "metadata": {},
   "outputs": [
    {
     "data": {
      "text/plain": [
       "2447"
      ]
     },
     "execution_count": 3,
     "metadata": {},
     "output_type": "execute_result"
    }
   ],
   "source": [
    "grid = load_data(data_path)\n",
    "hits = count_word(grid, word)\n",
    "sum([_[0] for _ in hits])"
   ]
  },
  {
   "cell_type": "markdown",
   "id": "496b93b1",
   "metadata": {},
   "source": [
    "## Part 2\n",
    "\n",
    "The Elf looks quizzically at you. Did you misunderstand the assignment?\n",
    "\n",
    "Looking for the instructions, you flip over the word search to find that this isn't actually an XMAS puzzle; it's an `X-MAS` puzzle in which you're supposed to find two MAS in the shape of an X. One way to achieve that is like this:\n",
    "\n",
    "```\n",
    "M.S\n",
    ".A.\n",
    "M.S\n",
    "```\n",
    "\n",
    "Irrelevant characters have again been replaced with . in the above diagram. Within the `X`, each `MAS` can be written forwards or backwards.\n",
    "\n",
    "Here's the same example from before, but this time all of the `X-MAS`es have been kept instead:\n",
    "\n",
    "```\n",
    ".M.S......\n",
    "..A..MSMS.\n",
    ".M.S.MAA..\n",
    "..A.ASMSM.\n",
    ".M.S.M....\n",
    "..........\n",
    "S.S.S.S.S.\n",
    ".A.A.A.A..\n",
    "M.M.M.M.M.\n",
    "..........\n",
    "```\n",
    "\n",
    "In this example, an `X-MAS` appears `9` times.\n",
    "\n",
    "Flip the word search from the instructions back over to the word search side and try again. How many times does an `X-MAS` appear?"
   ]
  },
  {
   "cell_type": "code",
   "execution_count": 4,
   "id": "288f182a",
   "metadata": {},
   "outputs": [
    {
     "data": {
      "text/plain": [
       "9"
      ]
     },
     "execution_count": 4,
     "metadata": {},
     "output_type": "execute_result"
    }
   ],
   "source": [
    "def count_xmas(grid: np.array) -> list[tuple]:\n",
    "    \"\"\"Returns locations of X-MAS patterns.\n",
    "    \n",
    "    Tuple has format (centre row, centre column)\n",
    "    \"\"\"\n",
    "    nrows, ncols = grid.shape\n",
    "    \n",
    "    hits = []\n",
    "    \n",
    "    for row in range(1, nrows-1):\n",
    "        for col in range(1, ncols-1):\n",
    "            if grid[row][col] == \"A\":  # found possible centre\n",
    "                opt1 = grid[row-1][col-1] + grid[row][col] + grid[row+1][col+1]\n",
    "                opt2 = grid[row+1][col-1] + grid[row][col] + grid[row-1][col+1]\n",
    "                if opt1 in (\"SAM\", \"MAS\") and opt2 in (\"SAM\", \"MAS\"):\n",
    "                    hits.append((row, col))\n",
    "                    \n",
    "    return(hits)\n",
    "\n",
    "grid = load_data(test_path)\n",
    "hits = count_xmas(grid)\n",
    "len(hits)"
   ]
  },
  {
   "cell_type": "code",
   "execution_count": 5,
   "id": "4341a6bc",
   "metadata": {},
   "outputs": [
    {
     "data": {
      "text/plain": [
       "1868"
      ]
     },
     "execution_count": 5,
     "metadata": {},
     "output_type": "execute_result"
    }
   ],
   "source": [
    "grid = load_data(data_path)\n",
    "hits = count_xmas(grid)\n",
    "len(hits)"
   ]
  },
  {
   "cell_type": "code",
   "execution_count": null,
   "id": "8a84727a",
   "metadata": {},
   "outputs": [],
   "source": []
  }
 ],
 "metadata": {
  "kernelspec": {
   "display_name": "Python 3 (ipykernel)",
   "language": "python",
   "name": "python3"
  },
  "language_info": {
   "codemirror_mode": {
    "name": "ipython",
    "version": 3
   },
   "file_extension": ".py",
   "mimetype": "text/x-python",
   "name": "python",
   "nbconvert_exporter": "python",
   "pygments_lexer": "ipython3",
   "version": "3.12.7"
  }
 },
 "nbformat": 4,
 "nbformat_minor": 5
}
